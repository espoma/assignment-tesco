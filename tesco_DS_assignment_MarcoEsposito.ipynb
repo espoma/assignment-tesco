{
 "cells": [
  {
   "cell_type": "markdown",
   "metadata": {},
   "source": [
    "**General instructions:** \n",
    "- This task is intended to be a general DS assessment. If you have applied for an Operational Research role, please contact your recruiter. \n",
    "- Please, explain any step or though that you think may be important to evaluate your task. \n",
    "- The expected programming language is **python**\n",
    "\n",
    "- For the sake of the review, we **strongly prefer** to receive back a jupyter notebook containing all the code, comments and thoughts. This notebook should work from end to end, so we can `restart and run all` or  go through it, cell by cell, if we needed to do so."
   ]
  },
  {
   "cell_type": "markdown",
   "metadata": {},
   "source": [
    "# TESCO STORES Dataset"
   ]
  },
  {
   "cell_type": "markdown",
   "metadata": {},
   "source": [
    "At Tesco, the location of a retail store plays a huge role in its commercial success. Our Stores Team use various data sources to better understand the potential of candidate locations for new stores in the UK. They need data science help in designing a model that can predict the future sales **[normalised_sales]** of a store based on location characteristics. Your task is to examine the provided dataset and answer the questions below.\n",
    "\n",
    "Dataset files\n",
    "* `tesco-dataset/train.csv`\n",
    "* `tesco-dataset/test.csv`\n",
    "\n",
    "Columns\n",
    "* `location_id`: id of Tesco property location\n",
    "* `normalised_sales`: normalised sales value of Tesco store\n",
    "* `crime_rate`: crime rate in the area (higher means more crime)\n",
    "* `household_size`: mean household size in the area\n",
    "* `household_affluency`: mean household affluency in the area (higher means more affluent)\n",
    "* `public_transport_dist`: index of public transport availability in the area\n",
    "* `proportion_newbuilds`: proportion of newly built property in the area\n",
    "* `property_value`: average property value in the area\n",
    "* `commercial_property`: percentage of commercial properties in the area\n",
    "* `school_proximity`: average school proximity in the area\n",
    "* `transport_availability`: availability of different transport\n",
    "* `new_store`: new Tesco store opened recently\n",
    "* `proportion_nonretail`: proportion of non-retail commercial properties in the area\n",
    "* `competitor_density`: density of competitor retailers\n",
    "* `proportion_flats`: proportion of blocks of flats in the area\n",
    "* `county`: county code of the area"
   ]
  },
  {
   "cell_type": "markdown",
   "metadata": {},
   "source": [
    "## Q1\n",
    "Before diving into the modelling, you are given the dataset and the Stores Team expect you to come back with an analysis of the data and any concerns you may have about it. They would also like to know which other information you think would be useful to collect for future developments."
   ]
  },
  {
   "cell_type": "markdown",
   "metadata": {},
   "source": [
    "## Q2\n",
    "Build a model that can predict store sales based on the provided area features. Please show how you developed the model and report how well your model is performing. ***Constraint:*** Please use Random Forest as the model family to solve this problem. "
   ]
  },
  {
   "cell_type": "markdown",
   "metadata": {},
   "source": [
    "## Q3\n",
    "The dataset contains a test set of potential store locations. Use your developed model to predict the sales value in these areas and explain what recommendations you would give to the Stores Team to use it. Use any tools that may help you to share your findings with product owners and other non-technical decision makers in the team. Complete this task by explaining how you would improve the current results."
   ]
  },
  {
   "cell_type": "markdown",
   "metadata": {},
   "source": [
    "-------------"
   ]
  },
  {
   "cell_type": "markdown",
   "metadata": {},
   "source": [
    "## Masked Dataset\n",
    "\n",
    "You are given the following small dataset, which has been completely masked for privacy reasons. Please train the best model you can come up with to predict the target variable `y` based on the features `x1` and `x2`. Explain every step you take. \n",
    "\n",
    "Assuming that this model will be used for making decisions involving important sums of money, provide any comments that you think you should be giving to the business as a technical expert.\n",
    "\n",
    "Dataset files\n",
    "* `masked_dataset/train.csv`"
   ]
  },
  {
   "cell_type": "code",
   "execution_count": null,
   "metadata": {},
   "outputs": [],
   "source": []
  },
  {
   "cell_type": "code",
   "execution_count": null,
   "metadata": {},
   "outputs": [],
   "source": []
  },
  {
   "cell_type": "markdown",
   "metadata": {},
   "source": [
    "# Marco Esposito's Solution"
   ]
  },
  {
   "cell_type": "markdown",
   "metadata": {},
   "source": [
    "# Tesco Stores Dataset"
   ]
  },
  {
   "cell_type": "code",
   "execution_count": 1,
   "metadata": {},
   "outputs": [],
   "source": [
    "from pathlib import Path\n",
    "import pandas as pd\n",
    "import numpy as np\n",
    "import matplotlib.pyplot as plt\n",
    "from sklearn.ensemble import RandomForestRegressor\n",
    "from sklearn.impute import KNNImputer\n",
    "from sklearn.model_selection import train_test_split\n",
    "import seaborn as sns\n",
    "from sklearn.metrics import mean_squared_error\n",
    "from sklearn.model_selection import cross_val_score, GridSearchCV\n",
    "import pickle"
   ]
  },
  {
   "cell_type": "code",
   "execution_count": 2,
   "metadata": {},
   "outputs": [],
   "source": [
    "PATH_DATA = Path('./data/tesco-dataset/')"
   ]
  },
  {
   "cell_type": "code",
   "execution_count": 3,
   "metadata": {},
   "outputs": [],
   "source": [
    "data = pd.read_csv(PATH_DATA / 'train.csv')\n",
    "test = pd.read_csv(PATH_DATA / 'test.csv')"
   ]
  },
  {
   "cell_type": "code",
   "execution_count": 4,
   "metadata": {},
   "outputs": [
    {
     "data": {
      "text/plain": [
       "((320, 16), (13, 15))"
      ]
     },
     "execution_count": 4,
     "metadata": {},
     "output_type": "execute_result"
    }
   ],
   "source": [
    "data.shape, test.shape"
   ]
  },
  {
   "cell_type": "markdown",
   "metadata": {},
   "source": [
    "## Q1 - Preprocessing"
   ]
  },
  {
   "cell_type": "markdown",
   "metadata": {},
   "source": [
    "Let's take a look at the data."
   ]
  },
  {
   "cell_type": "code",
   "execution_count": 5,
   "metadata": {},
   "outputs": [
    {
     "data": {
      "text/html": [
       "<div>\n",
       "<style scoped>\n",
       "    .dataframe tbody tr th:only-of-type {\n",
       "        vertical-align: middle;\n",
       "    }\n",
       "\n",
       "    .dataframe tbody tr th {\n",
       "        vertical-align: top;\n",
       "    }\n",
       "\n",
       "    .dataframe thead th {\n",
       "        text-align: right;\n",
       "    }\n",
       "</style>\n",
       "<table border=\"1\" class=\"dataframe\">\n",
       "  <thead>\n",
       "    <tr style=\"text-align: right;\">\n",
       "      <th></th>\n",
       "      <th>location_id</th>\n",
       "      <th>crime_rate</th>\n",
       "      <th>proportion_flats</th>\n",
       "      <th>proportion_nonretail</th>\n",
       "      <th>new_store</th>\n",
       "      <th>commercial_property</th>\n",
       "      <th>household_size</th>\n",
       "      <th>proportion_newbuilds</th>\n",
       "      <th>public_transport_dist</th>\n",
       "      <th>transport_availability</th>\n",
       "      <th>property_value</th>\n",
       "      <th>school_proximity</th>\n",
       "      <th>competitor_density</th>\n",
       "      <th>household_affluency</th>\n",
       "      <th>normalised_sales</th>\n",
       "      <th>county</th>\n",
       "    </tr>\n",
       "  </thead>\n",
       "  <tbody>\n",
       "    <tr>\n",
       "      <th>0</th>\n",
       "      <td>464</td>\n",
       "      <td>17.600541</td>\n",
       "      <td>0.0</td>\n",
       "      <td>18.10</td>\n",
       "      <td>no</td>\n",
       "      <td>NaN</td>\n",
       "      <td>2.926</td>\n",
       "      <td>29.0</td>\n",
       "      <td>2.9084</td>\n",
       "      <td>All transport options</td>\n",
       "      <td>666</td>\n",
       "      <td>20.2</td>\n",
       "      <td>368.74</td>\n",
       "      <td>4.5325</td>\n",
       "      <td>-0.399933</td>\n",
       "      <td>c_40</td>\n",
       "    </tr>\n",
       "    <tr>\n",
       "      <th>1</th>\n",
       "      <td>504</td>\n",
       "      <td>0.603556</td>\n",
       "      <td>20.0</td>\n",
       "      <td>3.97</td>\n",
       "      <td>no</td>\n",
       "      <td>14.85</td>\n",
       "      <td>4.520</td>\n",
       "      <td>10.6</td>\n",
       "      <td>2.1398</td>\n",
       "      <td>Average transport options</td>\n",
       "      <td>264</td>\n",
       "      <td>13.0</td>\n",
       "      <td>388.37</td>\n",
       "      <td>1.8150</td>\n",
       "      <td>2.216308</td>\n",
       "      <td>c_80</td>\n",
       "    </tr>\n",
       "    <tr>\n",
       "      <th>2</th>\n",
       "      <td>295</td>\n",
       "      <td>0.606810</td>\n",
       "      <td>0.0</td>\n",
       "      <td>6.20</td>\n",
       "      <td>no</td>\n",
       "      <td>7.70</td>\n",
       "      <td>2.981</td>\n",
       "      <td>31.9</td>\n",
       "      <td>3.6715</td>\n",
       "      <td>Many transport options</td>\n",
       "      <td>307</td>\n",
       "      <td>17.4</td>\n",
       "      <td>378.35</td>\n",
       "      <td>2.9125</td>\n",
       "      <td>0.166920</td>\n",
       "      <td>c_53</td>\n",
       "    </tr>\n",
       "    <tr>\n",
       "      <th>3</th>\n",
       "      <td>187</td>\n",
       "      <td>0.012385</td>\n",
       "      <td>55.0</td>\n",
       "      <td>2.25</td>\n",
       "      <td>no</td>\n",
       "      <td>1.95</td>\n",
       "      <td>3.453</td>\n",
       "      <td>68.1</td>\n",
       "      <td>7.3073</td>\n",
       "      <td>No transport options</td>\n",
       "      <td>300</td>\n",
       "      <td>15.3</td>\n",
       "      <td>394.72</td>\n",
       "      <td>2.0575</td>\n",
       "      <td>-0.083804</td>\n",
       "      <td>c_65</td>\n",
       "    </tr>\n",
       "    <tr>\n",
       "      <th>4</th>\n",
       "      <td>193</td>\n",
       "      <td>0.016182</td>\n",
       "      <td>100.0</td>\n",
       "      <td>1.32</td>\n",
       "      <td>no</td>\n",
       "      <td>3.05</td>\n",
       "      <td>3.816</td>\n",
       "      <td>59.5</td>\n",
       "      <td>8.3248</td>\n",
       "      <td>Average transport options</td>\n",
       "      <td>256</td>\n",
       "      <td>15.1</td>\n",
       "      <td>392.90</td>\n",
       "      <td>0.9875</td>\n",
       "      <td>0.962693</td>\n",
       "      <td>c_97</td>\n",
       "    </tr>\n",
       "  </tbody>\n",
       "</table>\n",
       "</div>"
      ],
      "text/plain": [
       "   location_id  crime_rate  proportion_flats  proportion_nonretail new_store  \\\n",
       "0          464   17.600541               0.0                 18.10        no   \n",
       "1          504    0.603556              20.0                  3.97        no   \n",
       "2          295    0.606810               0.0                  6.20        no   \n",
       "3          187    0.012385              55.0                  2.25        no   \n",
       "4          193    0.016182             100.0                  1.32        no   \n",
       "\n",
       "   commercial_property  household_size  proportion_newbuilds  \\\n",
       "0                  NaN           2.926                  29.0   \n",
       "1                14.85           4.520                  10.6   \n",
       "2                 7.70           2.981                  31.9   \n",
       "3                 1.95           3.453                  68.1   \n",
       "4                 3.05           3.816                  59.5   \n",
       "\n",
       "   public_transport_dist     transport_availability  property_value  \\\n",
       "0                 2.9084      All transport options             666   \n",
       "1                 2.1398  Average transport options             264   \n",
       "2                 3.6715     Many transport options             307   \n",
       "3                 7.3073       No transport options             300   \n",
       "4                 8.3248  Average transport options             256   \n",
       "\n",
       "   school_proximity  competitor_density  household_affluency  \\\n",
       "0              20.2              368.74               4.5325   \n",
       "1              13.0              388.37               1.8150   \n",
       "2              17.4              378.35               2.9125   \n",
       "3              15.3              394.72               2.0575   \n",
       "4              15.1              392.90               0.9875   \n",
       "\n",
       "   normalised_sales county  \n",
       "0         -0.399933   c_40  \n",
       "1          2.216308   c_80  \n",
       "2          0.166920   c_53  \n",
       "3         -0.083804   c_65  \n",
       "4          0.962693   c_97  "
      ]
     },
     "execution_count": 5,
     "metadata": {},
     "output_type": "execute_result"
    }
   ],
   "source": [
    "data.head()"
   ]
  },
  {
   "cell_type": "code",
   "execution_count": 6,
   "metadata": {},
   "outputs": [
    {
     "data": {
      "text/html": [
       "<div>\n",
       "<style scoped>\n",
       "    .dataframe tbody tr th:only-of-type {\n",
       "        vertical-align: middle;\n",
       "    }\n",
       "\n",
       "    .dataframe tbody tr th {\n",
       "        vertical-align: top;\n",
       "    }\n",
       "\n",
       "    .dataframe thead th {\n",
       "        text-align: right;\n",
       "    }\n",
       "</style>\n",
       "<table border=\"1\" class=\"dataframe\">\n",
       "  <thead>\n",
       "    <tr style=\"text-align: right;\">\n",
       "      <th></th>\n",
       "      <th>location_id</th>\n",
       "      <th>crime_rate</th>\n",
       "      <th>proportion_flats</th>\n",
       "      <th>proportion_nonretail</th>\n",
       "      <th>new_store</th>\n",
       "      <th>commercial_property</th>\n",
       "      <th>household_size</th>\n",
       "      <th>proportion_newbuilds</th>\n",
       "      <th>public_transport_dist</th>\n",
       "      <th>transport_availability</th>\n",
       "      <th>property_value</th>\n",
       "      <th>school_proximity</th>\n",
       "      <th>competitor_density</th>\n",
       "      <th>household_affluency</th>\n",
       "      <th>county</th>\n",
       "    </tr>\n",
       "  </thead>\n",
       "  <tbody>\n",
       "    <tr>\n",
       "      <th>0</th>\n",
       "      <td>105</td>\n",
       "      <td>0.039968</td>\n",
       "      <td>34.0</td>\n",
       "      <td>6.09</td>\n",
       "      <td>no</td>\n",
       "      <td>4.15</td>\n",
       "      <td>3.590</td>\n",
       "      <td>59.6</td>\n",
       "      <td>5.4917</td>\n",
       "      <td>Many transport options</td>\n",
       "      <td>329</td>\n",
       "      <td>16.1</td>\n",
       "      <td>395.75</td>\n",
       "      <td>2.3750</td>\n",
       "      <td>c_42</td>\n",
       "    </tr>\n",
       "    <tr>\n",
       "      <th>1</th>\n",
       "      <td>400</td>\n",
       "      <td>0.587758</td>\n",
       "      <td>20.0</td>\n",
       "      <td>3.97</td>\n",
       "      <td>no</td>\n",
       "      <td>14.85</td>\n",
       "      <td>5.398</td>\n",
       "      <td>8.5</td>\n",
       "      <td>2.2885</td>\n",
       "      <td>Average transport options</td>\n",
       "      <td>264</td>\n",
       "      <td>13.0</td>\n",
       "      <td>386.86</td>\n",
       "      <td>1.4775</td>\n",
       "      <td>c_140</td>\n",
       "    </tr>\n",
       "    <tr>\n",
       "      <th>2</th>\n",
       "      <td>338</td>\n",
       "      <td>1.116926</td>\n",
       "      <td>0.0</td>\n",
       "      <td>8.14</td>\n",
       "      <td>no</td>\n",
       "      <td>9.40</td>\n",
       "      <td>2.813</td>\n",
       "      <td>0.0</td>\n",
       "      <td>4.0952</td>\n",
       "      <td>Few transport options</td>\n",
       "      <td>307</td>\n",
       "      <td>NaN</td>\n",
       "      <td>394.54</td>\n",
       "      <td>4.9700</td>\n",
       "      <td>c_55</td>\n",
       "    </tr>\n",
       "    <tr>\n",
       "      <th>3</th>\n",
       "      <td>227</td>\n",
       "      <td>1.517409</td>\n",
       "      <td>0.0</td>\n",
       "      <td>19.58</td>\n",
       "      <td>no</td>\n",
       "      <td>12.75</td>\n",
       "      <td>3.066</td>\n",
       "      <td>0.0</td>\n",
       "      <td>1.7573</td>\n",
       "      <td>Average transport options</td>\n",
       "      <td>403</td>\n",
       "      <td>14.7</td>\n",
       "      <td>353.89</td>\n",
       "      <td>1.6075</td>\n",
       "      <td>c_62</td>\n",
       "    </tr>\n",
       "    <tr>\n",
       "      <th>4</th>\n",
       "      <td>114</td>\n",
       "      <td>83.093533</td>\n",
       "      <td>0.0</td>\n",
       "      <td>18.10</td>\n",
       "      <td>no</td>\n",
       "      <td>16.45</td>\n",
       "      <td>2.957</td>\n",
       "      <td>0.0</td>\n",
       "      <td>1.8026</td>\n",
       "      <td>All transport options</td>\n",
       "      <td>666</td>\n",
       "      <td>20.2</td>\n",
       "      <td>16.45</td>\n",
       "      <td>5.1550</td>\n",
       "      <td>c_22</td>\n",
       "    </tr>\n",
       "  </tbody>\n",
       "</table>\n",
       "</div>"
      ],
      "text/plain": [
       "   location_id  crime_rate  proportion_flats  proportion_nonretail new_store  \\\n",
       "0          105    0.039968              34.0                  6.09        no   \n",
       "1          400    0.587758              20.0                  3.97        no   \n",
       "2          338    1.116926               0.0                  8.14        no   \n",
       "3          227    1.517409               0.0                 19.58        no   \n",
       "4          114   83.093533               0.0                 18.10        no   \n",
       "\n",
       "   commercial_property  household_size  proportion_newbuilds  \\\n",
       "0                 4.15           3.590                  59.6   \n",
       "1                14.85           5.398                   8.5   \n",
       "2                 9.40           2.813                   0.0   \n",
       "3                12.75           3.066                   0.0   \n",
       "4                16.45           2.957                   0.0   \n",
       "\n",
       "   public_transport_dist     transport_availability  property_value  \\\n",
       "0                 5.4917     Many transport options             329   \n",
       "1                 2.2885  Average transport options             264   \n",
       "2                 4.0952      Few transport options             307   \n",
       "3                 1.7573  Average transport options             403   \n",
       "4                 1.8026      All transport options             666   \n",
       "\n",
       "   school_proximity  competitor_density  household_affluency county  \n",
       "0              16.1              395.75               2.3750   c_42  \n",
       "1              13.0              386.86               1.4775  c_140  \n",
       "2               NaN              394.54               4.9700   c_55  \n",
       "3              14.7              353.89               1.6075   c_62  \n",
       "4              20.2               16.45               5.1550   c_22  "
      ]
     },
     "execution_count": 6,
     "metadata": {},
     "output_type": "execute_result"
    }
   ],
   "source": [
    "test.head()"
   ]
  },
  {
   "cell_type": "code",
   "execution_count": 7,
   "metadata": {},
   "outputs": [
    {
     "name": "stdout",
     "output_type": "stream",
     "text": [
      "<class 'pandas.core.frame.DataFrame'>\n",
      "RangeIndex: 320 entries, 0 to 319\n",
      "Data columns (total 16 columns):\n",
      " #   Column                  Non-Null Count  Dtype  \n",
      "---  ------                  --------------  -----  \n",
      " 0   location_id             320 non-null    int64  \n",
      " 1   crime_rate              320 non-null    float64\n",
      " 2   proportion_flats        320 non-null    float64\n",
      " 3   proportion_nonretail    320 non-null    float64\n",
      " 4   new_store               320 non-null    object \n",
      " 5   commercial_property     291 non-null    float64\n",
      " 6   household_size          320 non-null    float64\n",
      " 7   proportion_newbuilds    320 non-null    float64\n",
      " 8   public_transport_dist   320 non-null    float64\n",
      " 9   transport_availability  320 non-null    object \n",
      " 10  property_value          320 non-null    int64  \n",
      " 11  school_proximity        257 non-null    float64\n",
      " 12  competitor_density      320 non-null    float64\n",
      " 13  household_affluency     320 non-null    float64\n",
      " 14  normalised_sales        320 non-null    float64\n",
      " 15  county                  320 non-null    object \n",
      "dtypes: float64(11), int64(2), object(3)\n",
      "memory usage: 40.1+ KB\n"
     ]
    }
   ],
   "source": [
    "data.info()"
   ]
  },
  {
   "cell_type": "code",
   "execution_count": 8,
   "metadata": {},
   "outputs": [
    {
     "data": {
      "text/html": [
       "<div>\n",
       "<style scoped>\n",
       "    .dataframe tbody tr th:only-of-type {\n",
       "        vertical-align: middle;\n",
       "    }\n",
       "\n",
       "    .dataframe tbody tr th {\n",
       "        vertical-align: top;\n",
       "    }\n",
       "\n",
       "    .dataframe thead th {\n",
       "        text-align: right;\n",
       "    }\n",
       "</style>\n",
       "<table border=\"1\" class=\"dataframe\">\n",
       "  <thead>\n",
       "    <tr style=\"text-align: right;\">\n",
       "      <th></th>\n",
       "      <th>location_id</th>\n",
       "      <th>crime_rate</th>\n",
       "      <th>proportion_flats</th>\n",
       "      <th>proportion_nonretail</th>\n",
       "      <th>commercial_property</th>\n",
       "      <th>household_size</th>\n",
       "      <th>proportion_newbuilds</th>\n",
       "      <th>public_transport_dist</th>\n",
       "      <th>property_value</th>\n",
       "      <th>school_proximity</th>\n",
       "      <th>competitor_density</th>\n",
       "      <th>household_affluency</th>\n",
       "      <th>normalised_sales</th>\n",
       "    </tr>\n",
       "  </thead>\n",
       "  <tbody>\n",
       "    <tr>\n",
       "      <th>count</th>\n",
       "      <td>320.000000</td>\n",
       "      <td>320.000000</td>\n",
       "      <td>320.000000</td>\n",
       "      <td>320.000000</td>\n",
       "      <td>291.000000</td>\n",
       "      <td>320.000000</td>\n",
       "      <td>320.000000</td>\n",
       "      <td>320.000000</td>\n",
       "      <td>320.000000</td>\n",
       "      <td>257.000000</td>\n",
       "      <td>320.000000</td>\n",
       "      <td>320.000000</td>\n",
       "      <td>320.000000</td>\n",
       "    </tr>\n",
       "    <tr>\n",
       "      <th>mean</th>\n",
       "      <td>252.387500</td>\n",
       "      <td>3.596375</td>\n",
       "      <td>10.673438</td>\n",
       "      <td>11.307906</td>\n",
       "      <td>16.868557</td>\n",
       "      <td>3.252803</td>\n",
       "      <td>31.849063</td>\n",
       "      <td>3.718765</td>\n",
       "      <td>408.834375</td>\n",
       "      <td>18.589494</td>\n",
       "      <td>359.657562</td>\n",
       "      <td>3.144008</td>\n",
       "      <td>-0.016967</td>\n",
       "    </tr>\n",
       "    <tr>\n",
       "      <th>std</th>\n",
       "      <td>145.600582</td>\n",
       "      <td>7.176342</td>\n",
       "      <td>22.579232</td>\n",
       "      <td>7.032693</td>\n",
       "      <td>73.806051</td>\n",
       "      <td>0.695442</td>\n",
       "      <td>27.845777</td>\n",
       "      <td>1.984765</td>\n",
       "      <td>170.888974</td>\n",
       "      <td>2.075529</td>\n",
       "      <td>86.048632</td>\n",
       "      <td>1.774041</td>\n",
       "      <td>0.978561</td>\n",
       "    </tr>\n",
       "    <tr>\n",
       "      <th>min</th>\n",
       "      <td>1.000000</td>\n",
       "      <td>0.007142</td>\n",
       "      <td>0.000000</td>\n",
       "      <td>0.740000</td>\n",
       "      <td>1.750000</td>\n",
       "      <td>0.561000</td>\n",
       "      <td>0.000000</td>\n",
       "      <td>1.137000</td>\n",
       "      <td>188.000000</td>\n",
       "      <td>13.000000</td>\n",
       "      <td>3.500000</td>\n",
       "      <td>0.432500</td>\n",
       "      <td>-1.936974</td>\n",
       "    </tr>\n",
       "    <tr>\n",
       "      <th>25%</th>\n",
       "      <td>126.500000</td>\n",
       "      <td>0.087937</td>\n",
       "      <td>0.000000</td>\n",
       "      <td>5.130000</td>\n",
       "      <td>5.450000</td>\n",
       "      <td>2.879750</td>\n",
       "      <td>6.350000</td>\n",
       "      <td>2.138075</td>\n",
       "      <td>277.000000</td>\n",
       "      <td>17.400000</td>\n",
       "      <td>376.722500</td>\n",
       "      <td>1.803750</td>\n",
       "      <td>-0.585250</td>\n",
       "    </tr>\n",
       "    <tr>\n",
       "      <th>50%</th>\n",
       "      <td>251.500000</td>\n",
       "      <td>0.289681</td>\n",
       "      <td>0.000000</td>\n",
       "      <td>9.900000</td>\n",
       "      <td>9.400000</td>\n",
       "      <td>3.197500</td>\n",
       "      <td>23.400000</td>\n",
       "      <td>3.095750</td>\n",
       "      <td>330.000000</td>\n",
       "      <td>19.100000</td>\n",
       "      <td>392.205000</td>\n",
       "      <td>2.808750</td>\n",
       "      <td>-0.143759</td>\n",
       "    </tr>\n",
       "    <tr>\n",
       "      <th>75%</th>\n",
       "      <td>377.250000</td>\n",
       "      <td>4.063553</td>\n",
       "      <td>12.500000</td>\n",
       "      <td>18.100000</td>\n",
       "      <td>14.050000</td>\n",
       "      <td>3.597250</td>\n",
       "      <td>54.450000</td>\n",
       "      <td>5.116700</td>\n",
       "      <td>666.000000</td>\n",
       "      <td>20.200000</td>\n",
       "      <td>396.352500</td>\n",
       "      <td>4.091875</td>\n",
       "      <td>0.243227</td>\n",
       "    </tr>\n",
       "    <tr>\n",
       "      <th>max</th>\n",
       "      <td>506.000000</td>\n",
       "      <td>51.693093</td>\n",
       "      <td>100.000000</td>\n",
       "      <td>27.740000</td>\n",
       "      <td>1009.000000</td>\n",
       "      <td>5.725000</td>\n",
       "      <td>94.000000</td>\n",
       "      <td>10.710300</td>\n",
       "      <td>711.000000</td>\n",
       "      <td>21.200000</td>\n",
       "      <td>396.900000</td>\n",
       "      <td>9.492500</td>\n",
       "      <td>2.968477</td>\n",
       "    </tr>\n",
       "  </tbody>\n",
       "</table>\n",
       "</div>"
      ],
      "text/plain": [
       "       location_id  crime_rate  proportion_flats  proportion_nonretail  \\\n",
       "count   320.000000  320.000000        320.000000            320.000000   \n",
       "mean    252.387500    3.596375         10.673438             11.307906   \n",
       "std     145.600582    7.176342         22.579232              7.032693   \n",
       "min       1.000000    0.007142          0.000000              0.740000   \n",
       "25%     126.500000    0.087937          0.000000              5.130000   \n",
       "50%     251.500000    0.289681          0.000000              9.900000   \n",
       "75%     377.250000    4.063553         12.500000             18.100000   \n",
       "max     506.000000   51.693093        100.000000             27.740000   \n",
       "\n",
       "       commercial_property  household_size  proportion_newbuilds  \\\n",
       "count           291.000000      320.000000            320.000000   \n",
       "mean             16.868557        3.252803             31.849063   \n",
       "std              73.806051        0.695442             27.845777   \n",
       "min               1.750000        0.561000              0.000000   \n",
       "25%               5.450000        2.879750              6.350000   \n",
       "50%               9.400000        3.197500             23.400000   \n",
       "75%              14.050000        3.597250             54.450000   \n",
       "max            1009.000000        5.725000             94.000000   \n",
       "\n",
       "       public_transport_dist  property_value  school_proximity  \\\n",
       "count             320.000000      320.000000        257.000000   \n",
       "mean                3.718765      408.834375         18.589494   \n",
       "std                 1.984765      170.888974          2.075529   \n",
       "min                 1.137000      188.000000         13.000000   \n",
       "25%                 2.138075      277.000000         17.400000   \n",
       "50%                 3.095750      330.000000         19.100000   \n",
       "75%                 5.116700      666.000000         20.200000   \n",
       "max                10.710300      711.000000         21.200000   \n",
       "\n",
       "       competitor_density  household_affluency  normalised_sales  \n",
       "count          320.000000           320.000000        320.000000  \n",
       "mean           359.657562             3.144008         -0.016967  \n",
       "std             86.048632             1.774041          0.978561  \n",
       "min              3.500000             0.432500         -1.936974  \n",
       "25%            376.722500             1.803750         -0.585250  \n",
       "50%            392.205000             2.808750         -0.143759  \n",
       "75%            396.352500             4.091875          0.243227  \n",
       "max            396.900000             9.492500          2.968477  "
      ]
     },
     "execution_count": 8,
     "metadata": {},
     "output_type": "execute_result"
    }
   ],
   "source": [
    "data.describe()"
   ]
  },
  {
   "cell_type": "markdown",
   "metadata": {},
   "source": [
    "The maximum of \"commercial_property\" is larger than 100. This can't be correct as the feature represents a proportion."
   ]
  },
  {
   "cell_type": "code",
   "execution_count": 9,
   "metadata": {},
   "outputs": [
    {
     "data": {
      "text/html": [
       "<div>\n",
       "<style scoped>\n",
       "    .dataframe tbody tr th:only-of-type {\n",
       "        vertical-align: middle;\n",
       "    }\n",
       "\n",
       "    .dataframe tbody tr th {\n",
       "        vertical-align: top;\n",
       "    }\n",
       "\n",
       "    .dataframe thead th {\n",
       "        text-align: right;\n",
       "    }\n",
       "</style>\n",
       "<table border=\"1\" class=\"dataframe\">\n",
       "  <thead>\n",
       "    <tr style=\"text-align: right;\">\n",
       "      <th></th>\n",
       "      <th>location_id</th>\n",
       "      <th>crime_rate</th>\n",
       "      <th>proportion_flats</th>\n",
       "      <th>proportion_nonretail</th>\n",
       "      <th>new_store</th>\n",
       "      <th>commercial_property</th>\n",
       "      <th>household_size</th>\n",
       "      <th>proportion_newbuilds</th>\n",
       "      <th>public_transport_dist</th>\n",
       "      <th>transport_availability</th>\n",
       "      <th>property_value</th>\n",
       "      <th>school_proximity</th>\n",
       "      <th>competitor_density</th>\n",
       "      <th>household_affluency</th>\n",
       "      <th>normalised_sales</th>\n",
       "      <th>county</th>\n",
       "    </tr>\n",
       "  </thead>\n",
       "  <tbody>\n",
       "    <tr>\n",
       "      <th>96</th>\n",
       "      <td>90</td>\n",
       "      <td>0.138640</td>\n",
       "      <td>0.0</td>\n",
       "      <td>6.91</td>\n",
       "      <td>no</td>\n",
       "      <td>1009.0</td>\n",
       "      <td>3.069</td>\n",
       "      <td>60.0</td>\n",
       "      <td>5.7209</td>\n",
       "      <td>No transport options</td>\n",
       "      <td>233</td>\n",
       "      <td>17.9</td>\n",
       "      <td>389.39</td>\n",
       "      <td>2.3875</td>\n",
       "      <td>-0.171012</td>\n",
       "      <td>c_48</td>\n",
       "    </tr>\n",
       "    <tr>\n",
       "      <th>103</th>\n",
       "      <td>394</td>\n",
       "      <td>0.102864</td>\n",
       "      <td>0.0</td>\n",
       "      <td>2.46</td>\n",
       "      <td>no</td>\n",
       "      <td>123.0</td>\n",
       "      <td>4.155</td>\n",
       "      <td>7.8</td>\n",
       "      <td>2.7006</td>\n",
       "      <td>No transport options</td>\n",
       "      <td>193</td>\n",
       "      <td>NaN</td>\n",
       "      <td>394.12</td>\n",
       "      <td>1.2050</td>\n",
       "      <td>1.649456</td>\n",
       "      <td>c_68</td>\n",
       "    </tr>\n",
       "    <tr>\n",
       "      <th>224</th>\n",
       "      <td>283</td>\n",
       "      <td>10.541872</td>\n",
       "      <td>0.0</td>\n",
       "      <td>18.10</td>\n",
       "      <td>no</td>\n",
       "      <td>767.0</td>\n",
       "      <td>3.185</td>\n",
       "      <td>1.3</td>\n",
       "      <td>2.2616</td>\n",
       "      <td>All transport options</td>\n",
       "      <td>666</td>\n",
       "      <td>20.2</td>\n",
       "      <td>396.90</td>\n",
       "      <td>4.5325</td>\n",
       "      <td>-0.944983</td>\n",
       "      <td>c_45</td>\n",
       "    </tr>\n",
       "  </tbody>\n",
       "</table>\n",
       "</div>"
      ],
      "text/plain": [
       "     location_id  crime_rate  proportion_flats  proportion_nonretail  \\\n",
       "96            90    0.138640               0.0                  6.91   \n",
       "103          394    0.102864               0.0                  2.46   \n",
       "224          283   10.541872               0.0                 18.10   \n",
       "\n",
       "    new_store  commercial_property  household_size  proportion_newbuilds  \\\n",
       "96         no               1009.0           3.069                  60.0   \n",
       "103        no                123.0           4.155                   7.8   \n",
       "224        no                767.0           3.185                   1.3   \n",
       "\n",
       "     public_transport_dist transport_availability  property_value  \\\n",
       "96                  5.7209   No transport options             233   \n",
       "103                 2.7006   No transport options             193   \n",
       "224                 2.2616  All transport options             666   \n",
       "\n",
       "     school_proximity  competitor_density  household_affluency  \\\n",
       "96               17.9              389.39               2.3875   \n",
       "103               NaN              394.12               1.2050   \n",
       "224              20.2              396.90               4.5325   \n",
       "\n",
       "     normalised_sales county  \n",
       "96          -0.171012   c_48  \n",
       "103          1.649456   c_68  \n",
       "224         -0.944983   c_45  "
      ]
     },
     "execution_count": 9,
     "metadata": {},
     "output_type": "execute_result"
    }
   ],
   "source": [
    "data[data.commercial_property >= 100]"
   ]
  },
  {
   "cell_type": "markdown",
   "metadata": {},
   "source": [
    "Only three instances have a value of \"commercial_property\" larger than 100, that is, less than $1\\%$. We can get rid of them altogether without compromising the modeling."
   ]
  },
  {
   "cell_type": "code",
   "execution_count": 10,
   "metadata": {},
   "outputs": [],
   "source": [
    "data.drop(index=data[data.commercial_property >= 100].index, inplace=True)"
   ]
  },
  {
   "cell_type": "code",
   "execution_count": 11,
   "metadata": {},
   "outputs": [
    {
     "data": {
      "text/html": [
       "<div>\n",
       "<style scoped>\n",
       "    .dataframe tbody tr th:only-of-type {\n",
       "        vertical-align: middle;\n",
       "    }\n",
       "\n",
       "    .dataframe tbody tr th {\n",
       "        vertical-align: top;\n",
       "    }\n",
       "\n",
       "    .dataframe thead th {\n",
       "        text-align: right;\n",
       "    }\n",
       "</style>\n",
       "<table border=\"1\" class=\"dataframe\">\n",
       "  <thead>\n",
       "    <tr style=\"text-align: right;\">\n",
       "      <th></th>\n",
       "      <th>location_id</th>\n",
       "      <th>crime_rate</th>\n",
       "      <th>proportion_flats</th>\n",
       "      <th>proportion_nonretail</th>\n",
       "      <th>commercial_property</th>\n",
       "      <th>household_size</th>\n",
       "      <th>proportion_newbuilds</th>\n",
       "      <th>public_transport_dist</th>\n",
       "      <th>property_value</th>\n",
       "      <th>school_proximity</th>\n",
       "      <th>competitor_density</th>\n",
       "      <th>household_affluency</th>\n",
       "      <th>normalised_sales</th>\n",
       "    </tr>\n",
       "  </thead>\n",
       "  <tbody>\n",
       "    <tr>\n",
       "      <th>count</th>\n",
       "      <td>317.000000</td>\n",
       "      <td>317.000000</td>\n",
       "      <td>317.000000</td>\n",
       "      <td>317.000000</td>\n",
       "      <td>288.000000</td>\n",
       "      <td>317.000000</td>\n",
       "      <td>317.000000</td>\n",
       "      <td>317.000000</td>\n",
       "      <td>317.000000</td>\n",
       "      <td>255.000000</td>\n",
       "      <td>317.000000</td>\n",
       "      <td>317.000000</td>\n",
       "      <td>317.000000</td>\n",
       "    </tr>\n",
       "    <tr>\n",
       "      <th>mean</th>\n",
       "      <td>252.356467</td>\n",
       "      <td>3.596393</td>\n",
       "      <td>10.774448</td>\n",
       "      <td>11.328265</td>\n",
       "      <td>10.450521</td>\n",
       "      <td>3.250751</td>\n",
       "      <td>31.932492</td>\n",
       "      <td>3.720258</td>\n",
       "      <td>409.258675</td>\n",
       "      <td>18.585882</td>\n",
       "      <td>359.337571</td>\n",
       "      <td>3.148131</td>\n",
       "      <td>-0.018810</td>\n",
       "    </tr>\n",
       "    <tr>\n",
       "      <th>std</th>\n",
       "      <td>145.776931</td>\n",
       "      <td>7.194420</td>\n",
       "      <td>22.662083</td>\n",
       "      <td>7.033702</td>\n",
       "      <td>5.776829</td>\n",
       "      <td>0.696799</td>\n",
       "      <td>27.846906</td>\n",
       "      <td>1.988468</td>\n",
       "      <td>170.368892</td>\n",
       "      <td>2.080779</td>\n",
       "      <td>86.392210</td>\n",
       "      <td>1.776872</td>\n",
       "      <td>0.977283</td>\n",
       "    </tr>\n",
       "    <tr>\n",
       "      <th>min</th>\n",
       "      <td>1.000000</td>\n",
       "      <td>0.007142</td>\n",
       "      <td>0.000000</td>\n",
       "      <td>0.740000</td>\n",
       "      <td>1.750000</td>\n",
       "      <td>0.561000</td>\n",
       "      <td>0.000000</td>\n",
       "      <td>1.137000</td>\n",
       "      <td>188.000000</td>\n",
       "      <td>13.000000</td>\n",
       "      <td>3.500000</td>\n",
       "      <td>0.432500</td>\n",
       "      <td>-1.936974</td>\n",
       "    </tr>\n",
       "    <tr>\n",
       "      <th>25%</th>\n",
       "      <td>127.000000</td>\n",
       "      <td>0.084784</td>\n",
       "      <td>0.000000</td>\n",
       "      <td>5.130000</td>\n",
       "      <td>5.400000</td>\n",
       "      <td>2.879000</td>\n",
       "      <td>6.400000</td>\n",
       "      <td>2.132900</td>\n",
       "      <td>279.000000</td>\n",
       "      <td>17.400000</td>\n",
       "      <td>376.700000</td>\n",
       "      <td>1.805000</td>\n",
       "      <td>-0.585250</td>\n",
       "    </tr>\n",
       "    <tr>\n",
       "      <th>50%</th>\n",
       "      <td>251.000000</td>\n",
       "      <td>0.292839</td>\n",
       "      <td>0.000000</td>\n",
       "      <td>9.900000</td>\n",
       "      <td>9.400000</td>\n",
       "      <td>3.202000</td>\n",
       "      <td>23.500000</td>\n",
       "      <td>3.099200</td>\n",
       "      <td>330.000000</td>\n",
       "      <td>19.100000</td>\n",
       "      <td>392.180000</td>\n",
       "      <td>2.812500</td>\n",
       "      <td>-0.138309</td>\n",
       "    </tr>\n",
       "    <tr>\n",
       "      <th>75%</th>\n",
       "      <td>377.000000</td>\n",
       "      <td>4.032608</td>\n",
       "      <td>12.500000</td>\n",
       "      <td>18.100000</td>\n",
       "      <td>13.787500</td>\n",
       "      <td>3.595000</td>\n",
       "      <td>54.400000</td>\n",
       "      <td>5.116700</td>\n",
       "      <td>666.000000</td>\n",
       "      <td>20.200000</td>\n",
       "      <td>396.330000</td>\n",
       "      <td>4.087500</td>\n",
       "      <td>0.243227</td>\n",
       "    </tr>\n",
       "    <tr>\n",
       "      <th>max</th>\n",
       "      <td>506.000000</td>\n",
       "      <td>51.693093</td>\n",
       "      <td>100.000000</td>\n",
       "      <td>27.740000</td>\n",
       "      <td>26.050000</td>\n",
       "      <td>5.725000</td>\n",
       "      <td>94.000000</td>\n",
       "      <td>10.710300</td>\n",
       "      <td>711.000000</td>\n",
       "      <td>21.200000</td>\n",
       "      <td>396.900000</td>\n",
       "      <td>9.492500</td>\n",
       "      <td>2.968477</td>\n",
       "    </tr>\n",
       "  </tbody>\n",
       "</table>\n",
       "</div>"
      ],
      "text/plain": [
       "       location_id  crime_rate  proportion_flats  proportion_nonretail  \\\n",
       "count   317.000000  317.000000        317.000000            317.000000   \n",
       "mean    252.356467    3.596393         10.774448             11.328265   \n",
       "std     145.776931    7.194420         22.662083              7.033702   \n",
       "min       1.000000    0.007142          0.000000              0.740000   \n",
       "25%     127.000000    0.084784          0.000000              5.130000   \n",
       "50%     251.000000    0.292839          0.000000              9.900000   \n",
       "75%     377.000000    4.032608         12.500000             18.100000   \n",
       "max     506.000000   51.693093        100.000000             27.740000   \n",
       "\n",
       "       commercial_property  household_size  proportion_newbuilds  \\\n",
       "count           288.000000      317.000000            317.000000   \n",
       "mean             10.450521        3.250751             31.932492   \n",
       "std               5.776829        0.696799             27.846906   \n",
       "min               1.750000        0.561000              0.000000   \n",
       "25%               5.400000        2.879000              6.400000   \n",
       "50%               9.400000        3.202000             23.500000   \n",
       "75%              13.787500        3.595000             54.400000   \n",
       "max              26.050000        5.725000             94.000000   \n",
       "\n",
       "       public_transport_dist  property_value  school_proximity  \\\n",
       "count             317.000000      317.000000        255.000000   \n",
       "mean                3.720258      409.258675         18.585882   \n",
       "std                 1.988468      170.368892          2.080779   \n",
       "min                 1.137000      188.000000         13.000000   \n",
       "25%                 2.132900      279.000000         17.400000   \n",
       "50%                 3.099200      330.000000         19.100000   \n",
       "75%                 5.116700      666.000000         20.200000   \n",
       "max                10.710300      711.000000         21.200000   \n",
       "\n",
       "       competitor_density  household_affluency  normalised_sales  \n",
       "count          317.000000           317.000000        317.000000  \n",
       "mean           359.337571             3.148131         -0.018810  \n",
       "std             86.392210             1.776872          0.977283  \n",
       "min              3.500000             0.432500         -1.936974  \n",
       "25%            376.700000             1.805000         -0.585250  \n",
       "50%            392.180000             2.812500         -0.138309  \n",
       "75%            396.330000             4.087500          0.243227  \n",
       "max            396.900000             9.492500          2.968477  "
      ]
     },
     "execution_count": 11,
     "metadata": {},
     "output_type": "execute_result"
    }
   ],
   "source": [
    "data.describe()"
   ]
  },
  {
   "cell_type": "markdown",
   "metadata": {},
   "source": [
    "We drop \"location_id\" and \"county\" - the former is a unique id and won't give useful information in the modeling, and the latter contains $80$ unique elements, around $1$ for each $4$ entries on average, and will probably not be relevant. We can think of using the \"county\" feature when we have more instances.\n",
    "\n",
    "We also get rid of $10$ instances where \"normalised_sales\" is around $2.97$ (see below for an explanation)."
   ]
  },
  {
   "cell_type": "code",
   "execution_count": 12,
   "metadata": {},
   "outputs": [],
   "source": [
    "data = data[data.normalised_sales <2.9] #comment this line to keep the original distribution of the target variable\n",
    "target = data.normalised_sales\n",
    "train = data.drop(['normalised_sales', 'location_id', 'county'], axis=1)"
   ]
  },
  {
   "cell_type": "code",
   "execution_count": 13,
   "metadata": {
    "scrolled": true
   },
   "outputs": [
    {
     "name": "stdout",
     "output_type": "stream",
     "text": [
      "<class 'pandas.core.frame.DataFrame'>\n",
      "Int64Index: 307 entries, 0 to 319\n",
      "Data columns (total 13 columns):\n",
      " #   Column                  Non-Null Count  Dtype  \n",
      "---  ------                  --------------  -----  \n",
      " 0   crime_rate              307 non-null    float64\n",
      " 1   proportion_flats        307 non-null    float64\n",
      " 2   proportion_nonretail    307 non-null    float64\n",
      " 3   new_store               307 non-null    object \n",
      " 4   commercial_property     278 non-null    float64\n",
      " 5   household_size          307 non-null    float64\n",
      " 6   proportion_newbuilds    307 non-null    float64\n",
      " 7   public_transport_dist   307 non-null    float64\n",
      " 8   transport_availability  307 non-null    object \n",
      " 9   property_value          307 non-null    int64  \n",
      " 10  school_proximity        249 non-null    float64\n",
      " 11  competitor_density      307 non-null    float64\n",
      " 12  household_affluency     307 non-null    float64\n",
      "dtypes: float64(10), int64(1), object(2)\n",
      "memory usage: 33.6+ KB\n"
     ]
    }
   ],
   "source": [
    "train.info()"
   ]
  },
  {
   "cell_type": "markdown",
   "metadata": {},
   "source": [
    "A quick look at the distribution of the target"
   ]
  },
  {
   "cell_type": "code",
   "execution_count": 14,
   "metadata": {},
   "outputs": [
    {
     "data": {
      "image/png": "[encoded data removed]",
      "text/plain": [
       "<Figure size 432x288 with 1 Axes>"
      ]
     },
     "metadata": {
      "needs_background": "light"
     },
     "output_type": "display_data"
    }
   ],
   "source": [
    "fig, ax = plt.subplots(1, 1)\n",
    "\n",
    "ax.hist(target, color='blue', bins='auto')\n",
    "ax.set_title(f'mean: {target.mean():.2f} - std: {target.std(ddof=2):.2f}')\n",
    "plt.show()"
   ]
  },
  {
   "cell_type": "markdown",
   "metadata": {},
   "source": [
    "\"normalised_sales\" represents the difference between the actual sales of a store and the average sales calculated over all stores, rescaled by the standard deviation, hence the negative values. The original distribution of target values has a heavy tail around $3$. If we take a look at it, we notice that it's actually made up of roughly $10$ entries with the same output value, around $2.96$. This suggests that the distribution has been capped at the aforementioned value - in this case, it is better to take out these entries from the training set, as they could affect the performance of the model in a negative way (one can comment the first line 2 cells above to keep the original dataset. This will lead to a poorer performance of the model). It's definitely recommended, however, to consult whomever provided the data to understand something more about these anomalous values - there could be other reasons for their presence in the distribution. "
   ]
  },
  {
   "cell_type": "markdown",
   "metadata": {},
   "source": [
    "Let's look at the features' correlation"
   ]
  },
  {
   "cell_type": "code",
   "execution_count": 15,
   "metadata": {},
   "outputs": [
    {
     "data": {
      "image/png": "[encoded data removed]",
      "text/plain": [
       "<Figure size 864x864 with 2 Axes>"
      ]
     },
     "metadata": {
      "needs_background": "light"
     },
     "output_type": "display_data"
    }
   ],
   "source": [
    "fig, ax = plt.subplots(figsize=(12, 12))\n",
    "corr = data.corr()\n",
    "corr = abs(corr)\n",
    "corr[abs(corr)<0.75] = 0\n",
    "sns.heatmap(corr, mask=np.zeros_like(corr, dtype=np.bool), \n",
    "            cmap=sns.diverging_palette(220, 10, as_cmap=True), square=True, ax=ax)\n",
    "plt.show()"
   ]
  },
  {
   "cell_type": "markdown",
   "metadata": {},
   "source": [
    "Some features have a correlation above 0.75 - let's take a look at them."
   ]
  },
  {
   "cell_type": "code",
   "execution_count": 16,
   "metadata": {},
   "outputs": [
    {
     "data": {
      "image/png": "[encoded data removed]",
      "text/plain": [
       "<Figure size 864x288 with 2 Axes>"
      ]
     },
     "metadata": {
      "needs_background": "light"
     },
     "output_type": "display_data"
    }
   ],
   "source": [
    "x_ = ['public_transport_dist', 'public_transport_dist']\n",
    "y_ = ['commercial_property', 'proportion_newbuilds']\n",
    "\n",
    "fig, ax = plt.subplots(1, 2, figsize=(12, 4))\n",
    "\n",
    "for i in range(2):\n",
    "    ax[i].scatter(data[x_[i]], data[y_[i]], color='red')\n",
    "    ax[i].set_xlabel(x_[i])\n",
    "    ax[i].set_ylabel(y_[i])\n",
    "    ax[i].set_title('corr: {:.3f}'.format(corr.loc[x_[i], y_[i]]))"
   ]
  },
  {
   "cell_type": "code",
   "execution_count": 17,
   "metadata": {},
   "outputs": [
    {
     "data": {
      "image/png": "[encoded data removed]",
      "text/plain": [
       "<Figure size 864x288 with 2 Axes>"
      ]
     },
     "metadata": {
      "needs_background": "light"
     },
     "output_type": "display_data"
    }
   ],
   "source": [
    "fig, ax = plt.subplots(1, 2, figsize=(12, 4))\n",
    "\n",
    "for i in range(2):\n",
    "    ax[i].scatter(np.log1p(data[x_[i]]), np.log1p(data[y_[i]]), color='red')\n",
    "    ax[i].set_xlabel(f'log(1+{x_[i]})')\n",
    "    ax[i].set_ylabel(f'log(1+{y_[i]})')\n",
    "    #ax[i].set_title('corr: {:.3f}'.format(corr.loc[x_[i], y_[i]]))"
   ]
  },
  {
   "cell_type": "markdown",
   "metadata": {},
   "source": [
    "There is a clear linear dipendence between \"commercial_property\" ($c$) and \"public_transport_dist\" ($p$), in a log-log scale. This suggests that $c = Ap^b + D$, where $b<0$. One way to have more robust results out from the modeling is to check how the model performs with and without correlated features. We have not done that here."
   ]
  },
  {
   "cell_type": "markdown",
   "metadata": {},
   "source": [
    "There is also one feature that correlates with the target variable. Their scatter plot follows."
   ]
  },
  {
   "cell_type": "code",
   "execution_count": 18,
   "metadata": {},
   "outputs": [
    {
     "data": {
      "text/plain": [
       "Text(0, 0.5, 'normalised_sales')"
      ]
     },
     "execution_count": 18,
     "metadata": {},
     "output_type": "execute_result"
    },
    {
     "data": {
      "image/png": "[encoded data removed]",
      "text/plain": [
       "<Figure size 432x288 with 1 Axes>"
      ]
     },
     "metadata": {
      "needs_background": "light"
     },
     "output_type": "display_data"
    }
   ],
   "source": [
    "plt.scatter(np.log1p(data.household_affluency), data.normalised_sales, color='red')\n",
    "plt.xlabel('log(1+household_affluency)')\n",
    "plt.ylabel('normalised_sales')"
   ]
  },
  {
   "cell_type": "markdown",
   "metadata": {},
   "source": [
    "In a log-lin scale, there is a linear dipendence between \"normalised_sales\" and \"household_affluency\". We can investigate this a bit more."
   ]
  },
  {
   "cell_type": "code",
   "execution_count": 19,
   "metadata": {
    "scrolled": false
   },
   "outputs": [
    {
     "data": {
      "image/png": "[encoded data removed]",
      "text/plain": [
       "<Figure size 432x288 with 2 Axes>"
      ]
     },
     "metadata": {
      "needs_background": "light"
     },
     "output_type": "display_data"
    }
   ],
   "source": [
    "fig, ax = plt.subplots(1, 1, figsize=(6, 4))\n",
    "color = data.household_affluency\n",
    "plot1 = ax.scatter(data.household_size, data.normalised_sales, \n",
    "                  c=color, cmap='autumn', alpha=0.5)\n",
    "ax.set_xlabel('household_size')\n",
    "ax.set_ylabel('normalised_sales')\n",
    "cbar = plt.colorbar(plot1)\n",
    "cbar.set_label('household_affluency')"
   ]
  },
  {
   "cell_type": "code",
   "execution_count": 20,
   "metadata": {},
   "outputs": [
    {
     "data": {
      "image/png": "[encoded data removed]",
      "text/plain": [
       "<Figure size 432x288 with 2 Axes>"
      ]
     },
     "metadata": {
      "needs_background": "light"
     },
     "output_type": "display_data"
    }
   ],
   "source": [
    "fig, ax = plt.subplots(1, 1, figsize=(6, 4))\n",
    "color = data.household_size\n",
    "plot = ax.scatter(np.log1p(data.household_affluency), data.normalised_sales, \n",
    "                  c=color, cmap='autumn', alpha=0.5)\n",
    "ax.set_xlabel('log(1+household_affluency)')\n",
    "ax.set_ylabel('normalised_sales')\n",
    "cbar = plt.colorbar(plot)\n",
    "cbar.set_label('household_size')"
   ]
  },
  {
   "cell_type": "code",
   "execution_count": 21,
   "metadata": {},
   "outputs": [
    {
     "data": {
      "text/plain": [
       "<matplotlib.collections.PathCollection at 0x7f09ed3f3bb0>"
      ]
     },
     "execution_count": 21,
     "metadata": {},
     "output_type": "execute_result"
    },
    {
     "data": {
      "image/png": "[encoded data removed]",
      "text/plain": [
       "<Figure size 432x288 with 1 Axes>"
      ]
     },
     "metadata": {
      "needs_background": "light"
     },
     "output_type": "display_data"
    }
   ],
   "source": [
    "fig, ax = plt.subplots(1, 1, figsize=(6, 4))\n",
    "\n",
    "ax.scatter(np.log1p(data.household_affluency), np.log1p(data.household_size), color='red')"
   ]
  },
  {
   "cell_type": "markdown",
   "metadata": {},
   "source": [
    "There is a negative correlation between \"household_affluency\" and both \"household_size\" and \"normalised_sales\". There also seems to be a positive correlation between \"household_size\" and \"normalised_sales\", suggesting that the more numerous a household, the less affluent it is, and the further from the mean (on the low end) Tesco sales are."
   ]
  },
  {
   "cell_type": "code",
   "execution_count": 22,
   "metadata": {
    "scrolled": true
   },
   "outputs": [
    {
     "data": {
      "text/plain": [
       "array(['All transport options', 'Average transport options',\n",
       "       'Many transport options', 'No transport options',\n",
       "       'Few transport options'], dtype=object)"
      ]
     },
     "execution_count": 22,
     "metadata": {},
     "output_type": "execute_result"
    }
   ],
   "source": [
    "data.transport_availability.unique()"
   ]
  },
  {
   "cell_type": "markdown",
   "metadata": {},
   "source": [
    "\"transport_availability\" can really be seen as a numerical feature, where 'No transport options' represents the lower end of the scale, and 'All transport options' represents the higher end."
   ]
  },
  {
   "cell_type": "code",
   "execution_count": 23,
   "metadata": {},
   "outputs": [],
   "source": [
    "train.replace(to_replace=['All transport options', 'Many transport options', \n",
    "                         'Average transport options', 'Few transport options', \n",
    "                         'No transport options'], value=[4, 3, 2,  1, 0], inplace=True)"
   ]
  },
  {
   "cell_type": "markdown",
   "metadata": {},
   "source": [
    "There is now only one categorical feature left, \"new_store\". Let's transform it using one-hot encoding."
   ]
  },
  {
   "cell_type": "code",
   "execution_count": 24,
   "metadata": {},
   "outputs": [],
   "source": [
    "train = pd.get_dummies(train)"
   ]
  },
  {
   "cell_type": "code",
   "execution_count": 25,
   "metadata": {},
   "outputs": [
    {
     "data": {
      "text/plain": [
       "(307, 14)"
      ]
     },
     "execution_count": 25,
     "metadata": {},
     "output_type": "execute_result"
    }
   ],
   "source": [
    "train.shape"
   ]
  },
  {
   "cell_type": "markdown",
   "metadata": {},
   "source": [
    "Let's now look at the distributions of all the numerical features."
   ]
  },
  {
   "cell_type": "code",
   "execution_count": 26,
   "metadata": {},
   "outputs": [
    {
     "name": "stderr",
     "output_type": "stream",
     "text": [
      "/home/marcau/anaconda3/lib/python3.8/site-packages/numpy/lib/histograms.py:403: RuntimeWarning: invalid value encountered in greater_equal\n",
      "  keep = (a >= first_edge)\n",
      "/home/marcau/anaconda3/lib/python3.8/site-packages/numpy/lib/histograms.py:404: RuntimeWarning: invalid value encountered in less_equal\n",
      "  keep &= (a <= last_edge)\n",
      "/home/marcau/anaconda3/lib/python3.8/site-packages/numpy/lib/histograms.py:839: RuntimeWarning: invalid value encountered in greater_equal\n",
      "  keep = (tmp_a >= first_edge)\n",
      "/home/marcau/anaconda3/lib/python3.8/site-packages/numpy/lib/histograms.py:840: RuntimeWarning: invalid value encountered in less_equal\n",
      "  keep &= (tmp_a <= last_edge)\n"
     ]
    },
    {
     "data": {
      "image/png": "[encoded data removed]",
      "text/plain": [
       "<Figure size 864x1152 with 12 Axes>"
      ]
     },
     "metadata": {
      "needs_background": "light"
     },
     "output_type": "display_data"
    }
   ],
   "source": [
    "numericalFeatures = train.select_dtypes(exclude=['object'])\n",
    "nrows, ncols = 4, 3\n",
    "fig, ax = plt.subplots(nrows, ncols, figsize=(12, 16))\n",
    "\n",
    "for i in range(nrows):\n",
    "    for j in range(ncols):\n",
    "        colNum = i*(ncols)+j\n",
    "        ax[i,j].hist(numericalFeatures.iloc[:,colNum], bins='auto', color='red')\n",
    "        ax[i,j].set_title(numericalFeatures.columns[colNum])\n",
    "\n",
    "plt.show()"
   ]
  },
  {
   "cell_type": "markdown",
   "metadata": {},
   "source": [
    "Some of these distributions do not look well-behaved and suggest caution. Features like \"crime_rate\", \"property_Value\", \"school_proximity\", \"proportion_flats\" and \"proportion_nonretail\" have a large fraction of the values in the same bin (the former around $0$, the latter around $18$). This can be due to a cap of the distribution, or could just be due to the nature of the data (for instance, the proportion of flats could be very close to $0$ in a large number of areas). In addition to discussing these issues with who provided the data, it might be a good idea to check for outliers in these features with algorithms like Isolation Forest or SVM, to get an idea of whether these data are actually healthy. Also, we can think of stratify some features (like the ones that represent a proportion), splitting their values in, i. e., \"very low proportion\" (between $0\\%$ and $25\\%$), \"low proportion\" in $25\\%-50\\%$ and so on."
   ]
  },
  {
   "cell_type": "code",
   "execution_count": 27,
   "metadata": {},
   "outputs": [
    {
     "data": {
      "text/plain": [
       "((84,), array([666, 711]))"
      ]
     },
     "execution_count": 27,
     "metadata": {},
     "output_type": "execute_result"
    }
   ],
   "source": [
    "train[train['property_value'] > 500]['property_value'].shape,\\\n",
    "train[train['property_value'] > 500]['property_value'].unique()"
   ]
  },
  {
   "cell_type": "markdown",
   "metadata": {},
   "source": [
    "The dataset contains $84$ entries where \"property_value\" is larger than $500$, but there are only two possible values of the feature above this threshold. This suggests, again, capping, or some other issue with the data collection/manipulation.\n",
    "\n",
    "It is likely that other among the aforementioned features also show this problem."
   ]
  },
  {
   "cell_type": "markdown",
   "metadata": {},
   "source": [
    "### To recap"
   ]
  },
  {
   "cell_type": "markdown",
   "metadata": {},
   "source": [
    "The feature \"commercial_property\" has $3$ values above $100$, which is impossible for a proportion. It's a good idea to check with the Stores Team whether there is a systematic error during the data collection in order to fix this problem.\n",
    "\n",
    "In the distribution of the target values there is a number of equal values - other features also exhibit a large number of entries condensed on the same value. This is a possible indicator of an error or data collection/manipulation, i. e., capping of the distribution. Look at this in more detail.\n",
    "\n",
    "Features representing a proportion (\"commercial_property\", \"proportion_nonretail\", \"proportion_flats\", \"commercial_property\") can end up having lots of instances with the same few values - it could make sense to bin them.\n",
    "\n",
    "Lastly, it's a sensible thing to check for outliers in the features, for instance using Isolation Forest or SVM. \n",
    "\n",
    "The data we are given can be categorised as:\n",
    "1. Information about the customers;\n",
    "2. Information about the area;\n",
    "3. Business facts.\n",
    "\n",
    "It would be helpful to know some more about the **stores** themselves. For instance:\n",
    "1. An index of how large the store is, and how many different items it offers;\n",
    "2. An index of how the different items are sold by category;\n",
    "3. An index of how many offers each Store puts out throughout the year.\n",
    "\n",
    "Also, some more information about **customers**:\n",
    "1. Mean/median age;\n",
    "2. How far they travel from their houses to shop at the Tesco store.\n",
    "Although I reckon that customers' data are more complicated to acquire, as some procedures (surveys, Clubcard, etc.) might introduce bias in the data collection."
   ]
  },
  {
   "cell_type": "markdown",
   "metadata": {},
   "source": [
    "## Q2 - Modeling"
   ]
  },
  {
   "cell_type": "markdown",
   "metadata": {},
   "source": [
    "After some preprocessing we will now turn to the modeling part. First, we need to choose a family of models, and a metric to assess the model against. \n",
    "\n",
    "For this task, we will use a Random Forest Regressor (RFR) algorithm, and mean squared error (MSE) as a metric."
   ]
  },
  {
   "cell_type": "markdown",
   "metadata": {},
   "source": [
    "Random Forest Regressor is a so-called ensemble learner: this means that uses an ensemble of multiple estimators to get a strong learner. Specifically, it uses several Decision Trees, characterized by high variance, and outputs the average value of the target calculated over the ensemble of Trees - this procedure increases bias.\n",
    "\n",
    "Since RFs are ensembles of Trees, it is not necessary to scale the data, as it is in many Machine Learning algorithms. The data need to be transformed (if they are categorical - we have used one-hot encoding) and imputed in case some values are missing."
   ]
  },
  {
   "cell_type": "markdown",
   "metadata": {},
   "source": [
    "### Missing values"
   ]
  },
  {
   "cell_type": "markdown",
   "metadata": {},
   "source": [
    "Two features have NaN values and we need to impute them. We can use different strategies: \n",
    "\n",
    "1. Remove all the entries where there is at least one missing values;\n",
    "2. Replace the NaNs with a constant value (usually 0, but it depends on the feature under scrutiny);\n",
    "3. Replace the NaNs with the mean of the corresponding feature;\n",
    "4. Replace the NaNs with the median of the corresponding feature;\n",
    "4. Assume that the missing values are a function of the other features, and use, e. g., k-nearest neighbours to impute them.\n",
    "\n",
    "The first two options would lead to a substantial loss of information, which is not desirable. We can then try the last three strategies and see which one performs best in the case at hand. "
   ]
  },
  {
   "cell_type": "code",
   "execution_count": 28,
   "metadata": {},
   "outputs": [],
   "source": [
    "def nan_imputer(train, strategy):\n",
    "    \n",
    "    if (strategy == 'mean'):\n",
    "        train_imp = train.fillna(train.mean())\n",
    "    if (strategy == 'median'):\n",
    "        train_imp = train.fillna(train.median())\n",
    "    if (strategy == 'function'):\n",
    "        imputer = KNNImputer()\n",
    "        train_imp = imputer.fit_transform(train)\n",
    "        \n",
    "    return train_imp"
   ]
  },
  {
   "cell_type": "markdown",
   "metadata": {},
   "source": [
    "We will assess the model against a loss function which is the mean squared error, defined as \n",
    "\n",
    "$\n",
    "L(Y, Y^*; \\theta) = \\frac{1}{n} \\sum_{i=1}^n (y_i(\\theta) - y^*_i)^ 2\n",
    "$\n",
    "\n",
    "where $Y$ and $Y^*$ represent the vectors of predictions and actual targets, respectively; $n$ is the number of items, and $\\theta$ is the vector of the parameters of the model."
   ]
  },
  {
   "cell_type": "code",
   "execution_count": 29,
   "metadata": {},
   "outputs": [
    {
     "name": "stdout",
     "output_type": "stream",
     "text": [
      "0.09589070514150165\n",
      "0.09932888927571663\n",
      "0.09082419580176883\n"
     ]
    }
   ],
   "source": [
    "strategies = ['mean', 'median', 'function']\n",
    "\n",
    "model = RandomForestRegressor()\n",
    "\n",
    "for strategy in strategies:\n",
    "    train_imp = nan_imputer(train, strategy)\n",
    "    X_train, X_test, y_train, y_test = train_test_split(train_imp, target, test_size=0.25, random_state=0)\n",
    "    model.fit(X_train, y_train)\n",
    "    print(mean_squared_error(y_test, model.predict(X_test)))"
   ]
  },
  {
   "cell_type": "markdown",
   "metadata": {},
   "source": [
    "It seems that the best strategy for imputation is using the k-nearest neighbours. We can get a more realistic estimate of the error and the standard deviation of the model using cross validation."
   ]
  },
  {
   "cell_type": "code",
   "execution_count": 30,
   "metadata": {},
   "outputs": [
    {
     "name": "stdout",
     "output_type": "stream",
     "text": [
      "imputation\n",
      "method\t\tmean_error\tstd_error\n",
      "mean      \t0.1047\t\t0.0551\n",
      "median    \t0.1064\t\t0.0595\n",
      "function  \t0.1055\t\t0.0618\n"
     ]
    }
   ],
   "source": [
    "print('imputation\\nmethod\\t\\tmean_error\\tstd_error') \n",
    "for strategy in strategies:\n",
    "    train_imp = nan_imputer(train, strategy)\n",
    "    model = RandomForestRegressor()\n",
    "    cvs = cross_val_score(model, train_imp, target, scoring='neg_mean_squared_error', cv=10)\n",
    "    print(f'{strategy:10s}\\t{-cvs.mean():.4f}\\t\\t{cvs.std():.4f}')"
   ]
  },
  {
   "cell_type": "markdown",
   "metadata": {},
   "source": [
    "The three imputations methods yield a comparable error and standard deviation. Since the knn algorithm is much more computationally expensive, especially on large datasets, we will use the median for the imputation."
   ]
  },
  {
   "cell_type": "markdown",
   "metadata": {},
   "source": [
    "### Grid Search"
   ]
  },
  {
   "cell_type": "markdown",
   "metadata": {},
   "source": [
    "We can now grid search the best parameters using k-fold cross validation."
   ]
  },
  {
   "cell_type": "code",
   "execution_count": 31,
   "metadata": {},
   "outputs": [],
   "source": [
    "param_grid = {\n",
    "             'n_estimators': [20, 50, 100, 200],\n",
    "             'max_depth': [3, 5, 10, 20, None],\n",
    "             'min_samples_split': [2, 10, 20], \n",
    "             'min_samples_leaf': [1, 5, 10],\n",
    "              }"
   ]
  },
  {
   "cell_type": "markdown",
   "metadata": {},
   "source": [
    "Let's make sense of the above parameters:\n",
    "\n",
    "1. n_estimators: number of estimators (Decision Trees in this case) to average the RFR over; \n",
    "2. max_depth: maximum depth of the three. If \"None\", the nodes are expanded until either all leaves are pure (contain samples with the same target value), or until all leaves contain less then min_samples_split samples (default is 2);\n",
    "3. min_samples_split: minimum number of samples required to split an internal node;\n",
    "4. min_samples_leaf: minimum number of samples required to be at a leaf node.\n",
    "\n",
    "n_estimators is an ensemble parameter, while the others regulate properties of the Trees."
   ]
  },
  {
   "cell_type": "markdown",
   "metadata": {},
   "source": [
    "Now let's grid search the best parameters among the ones we provide."
   ]
  },
  {
   "cell_type": "code",
   "execution_count": 32,
   "metadata": {},
   "outputs": [],
   "source": [
    "model = RandomForestRegressor()\n",
    "train_median = train.median()\n",
    "train_imp = train.fillna(train_median)\n",
    "\n",
    "gscv = GridSearchCV(model, param_grid, scoring='neg_mean_squared_error', \n",
    "                   n_jobs=-2, cv=10, verbose=1)"
   ]
  },
  {
   "cell_type": "code",
   "execution_count": 33,
   "metadata": {},
   "outputs": [
    {
     "name": "stdout",
     "output_type": "stream",
     "text": [
      "Fitting 10 folds for each of 180 candidates, totalling 1800 fits\n"
     ]
    },
    {
     "name": "stderr",
     "output_type": "stream",
     "text": [
      "[Parallel(n_jobs=-2)]: Using backend LokyBackend with 7 concurrent workers.\n",
      "[Parallel(n_jobs=-2)]: Done  36 tasks      | elapsed:    6.2s\n",
      "[Parallel(n_jobs=-2)]: Done 186 tasks      | elapsed:   17.0s\n",
      "[Parallel(n_jobs=-2)]: Done 436 tasks      | elapsed:   38.9s\n",
      "[Parallel(n_jobs=-2)]: Done 786 tasks      | elapsed:  1.2min\n",
      "[Parallel(n_jobs=-2)]: Done 1236 tasks      | elapsed:  1.9min\n",
      "[Parallel(n_jobs=-2)]: Done 1786 tasks      | elapsed:  2.7min\n",
      "[Parallel(n_jobs=-2)]: Done 1800 out of 1800 | elapsed:  2.8min finished\n"
     ]
    },
    {
     "name": "stdout",
     "output_type": "stream",
     "text": [
      "CPU times: user 7.33 s, sys: 697 ms, total: 8.03 s\n",
      "Wall time: 2min 46s\n"
     ]
    },
    {
     "data": {
      "text/plain": [
       "GridSearchCV(cv=10, estimator=RandomForestRegressor(), n_jobs=-2,\n",
       "             param_grid={'max_depth': [3, 5, 10, 20, None],\n",
       "                         'min_samples_leaf': [1, 5, 10],\n",
       "                         'min_samples_split': [2, 10, 20],\n",
       "                         'n_estimators': [20, 50, 100, 200]},\n",
       "             scoring='neg_mean_squared_error', verbose=1)"
      ]
     },
     "execution_count": 33,
     "metadata": {},
     "output_type": "execute_result"
    }
   ],
   "source": [
    "%%time\n",
    "model = RandomForestRegressor()\n",
    "\n",
    "gscv.fit(train_imp, target)"
   ]
  },
  {
   "cell_type": "code",
   "execution_count": 34,
   "metadata": {},
   "outputs": [
    {
     "data": {
      "text/plain": [
       "RandomForestRegressor(max_depth=20, n_estimators=50)"
      ]
     },
     "execution_count": 34,
     "metadata": {},
     "output_type": "execute_result"
    }
   ],
   "source": [
    "gscvBestEstimator = gscv.best_estimator_\n",
    "gscvBestEstimator"
   ]
  },
  {
   "cell_type": "code",
   "execution_count": 35,
   "metadata": {
    "scrolled": true
   },
   "outputs": [
    {
     "data": {
      "text/plain": [
       "-0.1062965143968655"
      ]
     },
     "execution_count": 35,
     "metadata": {},
     "output_type": "execute_result"
    }
   ],
   "source": [
    "gscv.best_score_"
   ]
  },
  {
   "cell_type": "markdown",
   "metadata": {},
   "source": [
    "The score is $-L$ ($L$ is the cost function), so the estimate of the error is of the order of $0.10$, consistent with the one found with default parameters."
   ]
  },
  {
   "cell_type": "markdown",
   "metadata": {},
   "source": [
    "# Q3 - Predictions"
   ]
  },
  {
   "cell_type": "markdown",
   "metadata": {},
   "source": [
    "## Test Preprocessing"
   ]
  },
  {
   "cell_type": "markdown",
   "metadata": {},
   "source": [
    "We can now use the model found through grid search to make predictions on the test set. We can also exploit the properties of the RF algorithm to gain an insight into how features affect predictions. \n",
    "\n",
    "Firstly, let us do some preprocessing on the test set, i. e. imputation of missing values and one-hot encoding for the categorical values."
   ]
  },
  {
   "cell_type": "code",
   "execution_count": 36,
   "metadata": {},
   "outputs": [
    {
     "name": "stdout",
     "output_type": "stream",
     "text": [
      "<class 'pandas.core.frame.DataFrame'>\n",
      "RangeIndex: 13 entries, 0 to 12\n",
      "Data columns (total 15 columns):\n",
      " #   Column                  Non-Null Count  Dtype  \n",
      "---  ------                  --------------  -----  \n",
      " 0   location_id             13 non-null     int64  \n",
      " 1   crime_rate              13 non-null     float64\n",
      " 2   proportion_flats        13 non-null     float64\n",
      " 3   proportion_nonretail    13 non-null     float64\n",
      " 4   new_store               13 non-null     object \n",
      " 5   commercial_property     12 non-null     float64\n",
      " 6   household_size          13 non-null     float64\n",
      " 7   proportion_newbuilds    13 non-null     float64\n",
      " 8   public_transport_dist   13 non-null     float64\n",
      " 9   transport_availability  13 non-null     object \n",
      " 10  property_value          13 non-null     int64  \n",
      " 11  school_proximity        11 non-null     float64\n",
      " 12  competitor_density      13 non-null     float64\n",
      " 13  household_affluency     13 non-null     float64\n",
      " 14  county                  13 non-null     object \n",
      "dtypes: float64(10), int64(2), object(3)\n",
      "memory usage: 1.6+ KB\n"
     ]
    }
   ],
   "source": [
    "test.info()"
   ]
  },
  {
   "cell_type": "code",
   "execution_count": 37,
   "metadata": {},
   "outputs": [],
   "source": [
    "test.fillna(train_median, inplace=True) #impute with the median values of the train set"
   ]
  },
  {
   "cell_type": "code",
   "execution_count": 38,
   "metadata": {},
   "outputs": [],
   "source": [
    "test.drop(['location_id', 'county'], axis=1, inplace=True)"
   ]
  },
  {
   "cell_type": "code",
   "execution_count": 39,
   "metadata": {},
   "outputs": [],
   "source": [
    "test.replace(to_replace=['All transport options', 'Many transport options', \n",
    "                         'Average transport options', 'Few transport options', \n",
    "                         'No transport options'], value=[4, 3, 2,  1, 0], inplace=True)"
   ]
  },
  {
   "cell_type": "code",
   "execution_count": 40,
   "metadata": {},
   "outputs": [],
   "source": [
    "test = pd.get_dummies(test)"
   ]
  },
  {
   "cell_type": "code",
   "execution_count": 41,
   "metadata": {
    "scrolled": true
   },
   "outputs": [
    {
     "data": {
      "text/html": [
       "<div>\n",
       "<style scoped>\n",
       "    .dataframe tbody tr th:only-of-type {\n",
       "        vertical-align: middle;\n",
       "    }\n",
       "\n",
       "    .dataframe tbody tr th {\n",
       "        vertical-align: top;\n",
       "    }\n",
       "\n",
       "    .dataframe thead th {\n",
       "        text-align: right;\n",
       "    }\n",
       "</style>\n",
       "<table border=\"1\" class=\"dataframe\">\n",
       "  <thead>\n",
       "    <tr style=\"text-align: right;\">\n",
       "      <th></th>\n",
       "      <th>crime_rate</th>\n",
       "      <th>proportion_flats</th>\n",
       "      <th>proportion_nonretail</th>\n",
       "      <th>commercial_property</th>\n",
       "      <th>household_size</th>\n",
       "      <th>proportion_newbuilds</th>\n",
       "      <th>public_transport_dist</th>\n",
       "      <th>transport_availability</th>\n",
       "      <th>property_value</th>\n",
       "      <th>school_proximity</th>\n",
       "      <th>competitor_density</th>\n",
       "      <th>household_affluency</th>\n",
       "      <th>new_store_no</th>\n",
       "      <th>new_store_yes</th>\n",
       "    </tr>\n",
       "  </thead>\n",
       "  <tbody>\n",
       "    <tr>\n",
       "      <th>count</th>\n",
       "      <td>307.000000</td>\n",
       "      <td>307.000000</td>\n",
       "      <td>307.000000</td>\n",
       "      <td>278.000000</td>\n",
       "      <td>307.000000</td>\n",
       "      <td>307.000000</td>\n",
       "      <td>307.000000</td>\n",
       "      <td>307.000000</td>\n",
       "      <td>307.000000</td>\n",
       "      <td>249.000000</td>\n",
       "      <td>307.000000</td>\n",
       "      <td>307.000000</td>\n",
       "      <td>307.000000</td>\n",
       "      <td>307.000000</td>\n",
       "    </tr>\n",
       "    <tr>\n",
       "      <th>mean</th>\n",
       "      <td>3.616808</td>\n",
       "      <td>10.522801</td>\n",
       "      <td>11.288176</td>\n",
       "      <td>10.463651</td>\n",
       "      <td>3.211661</td>\n",
       "      <td>32.228990</td>\n",
       "      <td>3.753558</td>\n",
       "      <td>2.114007</td>\n",
       "      <td>409.140065</td>\n",
       "      <td>18.606827</td>\n",
       "      <td>358.577883</td>\n",
       "      <td>3.218412</td>\n",
       "      <td>0.947883</td>\n",
       "      <td>0.052117</td>\n",
       "    </tr>\n",
       "    <tr>\n",
       "      <th>std</th>\n",
       "      <td>7.283907</td>\n",
       "      <td>21.989996</td>\n",
       "      <td>7.003502</td>\n",
       "      <td>5.822050</td>\n",
       "      <td>0.644923</td>\n",
       "      <td>27.801917</td>\n",
       "      <td>1.992379</td>\n",
       "      <td>1.424585</td>\n",
       "      <td>169.948387</td>\n",
       "      <td>2.058067</td>\n",
       "      <td>87.668913</td>\n",
       "      <td>1.759289</td>\n",
       "      <td>0.222626</td>\n",
       "      <td>0.222626</td>\n",
       "    </tr>\n",
       "    <tr>\n",
       "      <th>min</th>\n",
       "      <td>0.007142</td>\n",
       "      <td>0.000000</td>\n",
       "      <td>0.740000</td>\n",
       "      <td>1.750000</td>\n",
       "      <td>0.561000</td>\n",
       "      <td>0.000000</td>\n",
       "      <td>1.137000</td>\n",
       "      <td>0.000000</td>\n",
       "      <td>188.000000</td>\n",
       "      <td>13.000000</td>\n",
       "      <td>3.500000</td>\n",
       "      <td>0.495000</td>\n",
       "      <td>0.000000</td>\n",
       "      <td>0.000000</td>\n",
       "    </tr>\n",
       "    <tr>\n",
       "      <th>25%</th>\n",
       "      <td>0.086886</td>\n",
       "      <td>0.000000</td>\n",
       "      <td>5.130000</td>\n",
       "      <td>5.400000</td>\n",
       "      <td>2.877500</td>\n",
       "      <td>6.650000</td>\n",
       "      <td>2.167650</td>\n",
       "      <td>1.000000</td>\n",
       "      <td>279.500000</td>\n",
       "      <td>17.400000</td>\n",
       "      <td>376.740000</td>\n",
       "      <td>1.881250</td>\n",
       "      <td>1.000000</td>\n",
       "      <td>0.000000</td>\n",
       "    </tr>\n",
       "    <tr>\n",
       "      <th>50%</th>\n",
       "      <td>0.282274</td>\n",
       "      <td>0.000000</td>\n",
       "      <td>9.900000</td>\n",
       "      <td>9.400000</td>\n",
       "      <td>3.167000</td>\n",
       "      <td>23.500000</td>\n",
       "      <td>3.102500</td>\n",
       "      <td>2.000000</td>\n",
       "      <td>330.000000</td>\n",
       "      <td>19.100000</td>\n",
       "      <td>392.330000</td>\n",
       "      <td>2.870000</td>\n",
       "      <td>1.000000</td>\n",
       "      <td>0.000000</td>\n",
       "    </tr>\n",
       "    <tr>\n",
       "      <th>75%</th>\n",
       "      <td>3.892697</td>\n",
       "      <td>12.500000</td>\n",
       "      <td>18.100000</td>\n",
       "      <td>13.700000</td>\n",
       "      <td>3.547500</td>\n",
       "      <td>54.500000</td>\n",
       "      <td>5.116700</td>\n",
       "      <td>4.000000</td>\n",
       "      <td>666.000000</td>\n",
       "      <td>20.200000</td>\n",
       "      <td>396.900000</td>\n",
       "      <td>4.128750</td>\n",
       "      <td>1.000000</td>\n",
       "      <td>0.000000</td>\n",
       "    </tr>\n",
       "    <tr>\n",
       "      <th>max</th>\n",
       "      <td>51.693093</td>\n",
       "      <td>100.000000</td>\n",
       "      <td>27.740000</td>\n",
       "      <td>26.050000</td>\n",
       "      <td>5.266000</td>\n",
       "      <td>94.000000</td>\n",
       "      <td>10.710300</td>\n",
       "      <td>4.000000</td>\n",
       "      <td>711.000000</td>\n",
       "      <td>21.200000</td>\n",
       "      <td>396.900000</td>\n",
       "      <td>9.492500</td>\n",
       "      <td>1.000000</td>\n",
       "      <td>1.000000</td>\n",
       "    </tr>\n",
       "  </tbody>\n",
       "</table>\n",
       "</div>"
      ],
      "text/plain": [
       "       crime_rate  proportion_flats  proportion_nonretail  \\\n",
       "count  307.000000        307.000000            307.000000   \n",
       "mean     3.616808         10.522801             11.288176   \n",
       "std      7.283907         21.989996              7.003502   \n",
       "min      0.007142          0.000000              0.740000   \n",
       "25%      0.086886          0.000000              5.130000   \n",
       "50%      0.282274          0.000000              9.900000   \n",
       "75%      3.892697         12.500000             18.100000   \n",
       "max     51.693093        100.000000             27.740000   \n",
       "\n",
       "       commercial_property  household_size  proportion_newbuilds  \\\n",
       "count           278.000000      307.000000            307.000000   \n",
       "mean             10.463651        3.211661             32.228990   \n",
       "std               5.822050        0.644923             27.801917   \n",
       "min               1.750000        0.561000              0.000000   \n",
       "25%               5.400000        2.877500              6.650000   \n",
       "50%               9.400000        3.167000             23.500000   \n",
       "75%              13.700000        3.547500             54.500000   \n",
       "max              26.050000        5.266000             94.000000   \n",
       "\n",
       "       public_transport_dist  transport_availability  property_value  \\\n",
       "count             307.000000              307.000000      307.000000   \n",
       "mean                3.753558                2.114007      409.140065   \n",
       "std                 1.992379                1.424585      169.948387   \n",
       "min                 1.137000                0.000000      188.000000   \n",
       "25%                 2.167650                1.000000      279.500000   \n",
       "50%                 3.102500                2.000000      330.000000   \n",
       "75%                 5.116700                4.000000      666.000000   \n",
       "max                10.710300                4.000000      711.000000   \n",
       "\n",
       "       school_proximity  competitor_density  household_affluency  \\\n",
       "count        249.000000          307.000000           307.000000   \n",
       "mean          18.606827          358.577883             3.218412   \n",
       "std            2.058067           87.668913             1.759289   \n",
       "min           13.000000            3.500000             0.495000   \n",
       "25%           17.400000          376.740000             1.881250   \n",
       "50%           19.100000          392.330000             2.870000   \n",
       "75%           20.200000          396.900000             4.128750   \n",
       "max           21.200000          396.900000             9.492500   \n",
       "\n",
       "       new_store_no  new_store_yes  \n",
       "count    307.000000     307.000000  \n",
       "mean       0.947883       0.052117  \n",
       "std        0.222626       0.222626  \n",
       "min        0.000000       0.000000  \n",
       "25%        1.000000       0.000000  \n",
       "50%        1.000000       0.000000  \n",
       "75%        1.000000       0.000000  \n",
       "max        1.000000       1.000000  "
      ]
     },
     "execution_count": 41,
     "metadata": {},
     "output_type": "execute_result"
    }
   ],
   "source": [
    "train.describe()"
   ]
  },
  {
   "cell_type": "code",
   "execution_count": 42,
   "metadata": {},
   "outputs": [
    {
     "data": {
      "text/html": [
       "<div>\n",
       "<style scoped>\n",
       "    .dataframe tbody tr th:only-of-type {\n",
       "        vertical-align: middle;\n",
       "    }\n",
       "\n",
       "    .dataframe tbody tr th {\n",
       "        vertical-align: top;\n",
       "    }\n",
       "\n",
       "    .dataframe thead th {\n",
       "        text-align: right;\n",
       "    }\n",
       "</style>\n",
       "<table border=\"1\" class=\"dataframe\">\n",
       "  <thead>\n",
       "    <tr style=\"text-align: right;\">\n",
       "      <th></th>\n",
       "      <th>crime_rate</th>\n",
       "      <th>proportion_flats</th>\n",
       "      <th>proportion_nonretail</th>\n",
       "      <th>commercial_property</th>\n",
       "      <th>household_size</th>\n",
       "      <th>proportion_newbuilds</th>\n",
       "      <th>public_transport_dist</th>\n",
       "      <th>transport_availability</th>\n",
       "      <th>property_value</th>\n",
       "      <th>school_proximity</th>\n",
       "      <th>competitor_density</th>\n",
       "      <th>household_affluency</th>\n",
       "      <th>new_store_no</th>\n",
       "      <th>new_store_yes</th>\n",
       "    </tr>\n",
       "  </thead>\n",
       "  <tbody>\n",
       "    <tr>\n",
       "      <th>count</th>\n",
       "      <td>13.000000</td>\n",
       "      <td>13.000000</td>\n",
       "      <td>13.000000</td>\n",
       "      <td>13.000000</td>\n",
       "      <td>13.000000</td>\n",
       "      <td>13.000000</td>\n",
       "      <td>13.000000</td>\n",
       "      <td>13.000000</td>\n",
       "      <td>13.000000</td>\n",
       "      <td>13.000000</td>\n",
       "      <td>13.000000</td>\n",
       "      <td>13.000000</td>\n",
       "      <td>13.000000</td>\n",
       "      <td>13.000000</td>\n",
       "    </tr>\n",
       "    <tr>\n",
       "      <th>mean</th>\n",
       "      <td>8.740234</td>\n",
       "      <td>11.076923</td>\n",
       "      <td>10.938462</td>\n",
       "      <td>10.996154</td>\n",
       "      <td>3.581077</td>\n",
       "      <td>29.915385</td>\n",
       "      <td>3.492546</td>\n",
       "      <td>2.384615</td>\n",
       "      <td>420.230769</td>\n",
       "      <td>17.976923</td>\n",
       "      <td>354.753077</td>\n",
       "      <td>2.755962</td>\n",
       "      <td>0.923077</td>\n",
       "      <td>0.076923</td>\n",
       "    </tr>\n",
       "    <tr>\n",
       "      <th>std</th>\n",
       "      <td>22.651266</td>\n",
       "      <td>25.918017</td>\n",
       "      <td>6.326023</td>\n",
       "      <td>5.636321</td>\n",
       "      <td>0.860942</td>\n",
       "      <td>35.797785</td>\n",
       "      <td>1.953115</td>\n",
       "      <td>1.445595</td>\n",
       "      <td>176.230509</td>\n",
       "      <td>2.501051</td>\n",
       "      <td>102.742778</td>\n",
       "      <td>1.599229</td>\n",
       "      <td>0.277350</td>\n",
       "      <td>0.277350</td>\n",
       "    </tr>\n",
       "    <tr>\n",
       "      <th>min</th>\n",
       "      <td>0.010238</td>\n",
       "      <td>0.000000</td>\n",
       "      <td>2.970000</td>\n",
       "      <td>2.500000</td>\n",
       "      <td>2.813000</td>\n",
       "      <td>0.000000</td>\n",
       "      <td>1.129600</td>\n",
       "      <td>0.000000</td>\n",
       "      <td>233.000000</td>\n",
       "      <td>13.000000</td>\n",
       "      <td>16.450000</td>\n",
       "      <td>0.617500</td>\n",
       "      <td>0.000000</td>\n",
       "      <td>0.000000</td>\n",
       "    </tr>\n",
       "    <tr>\n",
       "      <th>25%</th>\n",
       "      <td>0.159895</td>\n",
       "      <td>0.000000</td>\n",
       "      <td>6.200000</td>\n",
       "      <td>7.150000</td>\n",
       "      <td>3.066000</td>\n",
       "      <td>2.800000</td>\n",
       "      <td>2.065100</td>\n",
       "      <td>2.000000</td>\n",
       "      <td>287.000000</td>\n",
       "      <td>16.100000</td>\n",
       "      <td>383.370000</td>\n",
       "      <td>1.477500</td>\n",
       "      <td>1.000000</td>\n",
       "      <td>0.000000</td>\n",
       "    </tr>\n",
       "    <tr>\n",
       "      <th>50%</th>\n",
       "      <td>0.650078</td>\n",
       "      <td>0.000000</td>\n",
       "      <td>8.140000</td>\n",
       "      <td>9.400000</td>\n",
       "      <td>3.297000</td>\n",
       "      <td>10.400000</td>\n",
       "      <td>2.368200</td>\n",
       "      <td>2.000000</td>\n",
       "      <td>329.000000</td>\n",
       "      <td>19.100000</td>\n",
       "      <td>385.960000</td>\n",
       "      <td>2.220000</td>\n",
       "      <td>1.000000</td>\n",
       "      <td>0.000000</td>\n",
       "    </tr>\n",
       "    <tr>\n",
       "      <th>75%</th>\n",
       "      <td>5.751892</td>\n",
       "      <td>0.000000</td>\n",
       "      <td>18.100000</td>\n",
       "      <td>15.900000</td>\n",
       "      <td>3.590000</td>\n",
       "      <td>59.600000</td>\n",
       "      <td>5.415900</td>\n",
       "      <td>4.000000</td>\n",
       "      <td>666.000000</td>\n",
       "      <td>20.200000</td>\n",
       "      <td>393.680000</td>\n",
       "      <td>4.317500</td>\n",
       "      <td>1.000000</td>\n",
       "      <td>0.000000</td>\n",
       "    </tr>\n",
       "    <tr>\n",
       "      <th>max</th>\n",
       "      <td>83.093533</td>\n",
       "      <td>90.000000</td>\n",
       "      <td>19.580000</td>\n",
       "      <td>19.500000</td>\n",
       "      <td>5.398000</td>\n",
       "      <td>93.400000</td>\n",
       "      <td>7.307300</td>\n",
       "      <td>4.000000</td>\n",
       "      <td>666.000000</td>\n",
       "      <td>20.900000</td>\n",
       "      <td>395.750000</td>\n",
       "      <td>5.155000</td>\n",
       "      <td>1.000000</td>\n",
       "      <td>1.000000</td>\n",
       "    </tr>\n",
       "  </tbody>\n",
       "</table>\n",
       "</div>"
      ],
      "text/plain": [
       "       crime_rate  proportion_flats  proportion_nonretail  \\\n",
       "count   13.000000         13.000000             13.000000   \n",
       "mean     8.740234         11.076923             10.938462   \n",
       "std     22.651266         25.918017              6.326023   \n",
       "min      0.010238          0.000000              2.970000   \n",
       "25%      0.159895          0.000000              6.200000   \n",
       "50%      0.650078          0.000000              8.140000   \n",
       "75%      5.751892          0.000000             18.100000   \n",
       "max     83.093533         90.000000             19.580000   \n",
       "\n",
       "       commercial_property  household_size  proportion_newbuilds  \\\n",
       "count            13.000000       13.000000             13.000000   \n",
       "mean             10.996154        3.581077             29.915385   \n",
       "std               5.636321        0.860942             35.797785   \n",
       "min               2.500000        2.813000              0.000000   \n",
       "25%               7.150000        3.066000              2.800000   \n",
       "50%               9.400000        3.297000             10.400000   \n",
       "75%              15.900000        3.590000             59.600000   \n",
       "max              19.500000        5.398000             93.400000   \n",
       "\n",
       "       public_transport_dist  transport_availability  property_value  \\\n",
       "count              13.000000               13.000000       13.000000   \n",
       "mean                3.492546                2.384615      420.230769   \n",
       "std                 1.953115                1.445595      176.230509   \n",
       "min                 1.129600                0.000000      233.000000   \n",
       "25%                 2.065100                2.000000      287.000000   \n",
       "50%                 2.368200                2.000000      329.000000   \n",
       "75%                 5.415900                4.000000      666.000000   \n",
       "max                 7.307300                4.000000      666.000000   \n",
       "\n",
       "       school_proximity  competitor_density  household_affluency  \\\n",
       "count         13.000000           13.000000            13.000000   \n",
       "mean          17.976923          354.753077             2.755962   \n",
       "std            2.501051          102.742778             1.599229   \n",
       "min           13.000000           16.450000             0.617500   \n",
       "25%           16.100000          383.370000             1.477500   \n",
       "50%           19.100000          385.960000             2.220000   \n",
       "75%           20.200000          393.680000             4.317500   \n",
       "max           20.900000          395.750000             5.155000   \n",
       "\n",
       "       new_store_no  new_store_yes  \n",
       "count     13.000000      13.000000  \n",
       "mean       0.923077       0.076923  \n",
       "std        0.277350       0.277350  \n",
       "min        0.000000       0.000000  \n",
       "25%        1.000000       0.000000  \n",
       "50%        1.000000       0.000000  \n",
       "75%        1.000000       0.000000  \n",
       "max        1.000000       1.000000  "
      ]
     },
     "execution_count": 42,
     "metadata": {},
     "output_type": "execute_result"
    }
   ],
   "source": [
    "test.describe()"
   ]
  },
  {
   "cell_type": "code",
   "execution_count": 43,
   "metadata": {},
   "outputs": [],
   "source": [
    "predictions = gscvBestEstimator.predict(test)"
   ]
  },
  {
   "cell_type": "code",
   "execution_count": 44,
   "metadata": {},
   "outputs": [
    {
     "data": {
      "text/plain": [
       "array([ 0.32040568,  2.11144043, -0.81526079,  0.25630778, -1.55107847,\n",
       "       -0.99207505,  0.15950688,  0.1684457 ,  1.00237241,  0.19809643,\n",
       "       -0.6055255 ,  2.0828798 , -0.33103825])"
      ]
     },
     "execution_count": 44,
     "metadata": {},
     "output_type": "execute_result"
    }
   ],
   "source": [
    "predictions"
   ]
  },
  {
   "cell_type": "code",
   "execution_count": 45,
   "metadata": {},
   "outputs": [],
   "source": [
    "testWithPredictions = test.copy()\n",
    "testWithPredictions['normalised_sales'] = predictions"
   ]
  },
  {
   "cell_type": "code",
   "execution_count": 46,
   "metadata": {},
   "outputs": [
    {
     "data": {
      "text/html": [
       "<div>\n",
       "<style scoped>\n",
       "    .dataframe tbody tr th:only-of-type {\n",
       "        vertical-align: middle;\n",
       "    }\n",
       "\n",
       "    .dataframe tbody tr th {\n",
       "        vertical-align: top;\n",
       "    }\n",
       "\n",
       "    .dataframe thead th {\n",
       "        text-align: right;\n",
       "    }\n",
       "</style>\n",
       "<table border=\"1\" class=\"dataframe\">\n",
       "  <thead>\n",
       "    <tr style=\"text-align: right;\">\n",
       "      <th></th>\n",
       "      <th>crime_rate</th>\n",
       "      <th>proportion_flats</th>\n",
       "      <th>proportion_nonretail</th>\n",
       "      <th>commercial_property</th>\n",
       "      <th>household_size</th>\n",
       "      <th>proportion_newbuilds</th>\n",
       "      <th>public_transport_dist</th>\n",
       "      <th>transport_availability</th>\n",
       "      <th>property_value</th>\n",
       "      <th>school_proximity</th>\n",
       "      <th>competitor_density</th>\n",
       "      <th>household_affluency</th>\n",
       "      <th>new_store_no</th>\n",
       "      <th>new_store_yes</th>\n",
       "      <th>normalised_sales</th>\n",
       "    </tr>\n",
       "  </thead>\n",
       "  <tbody>\n",
       "    <tr>\n",
       "      <th>0</th>\n",
       "      <td>0.039968</td>\n",
       "      <td>34.0</td>\n",
       "      <td>6.09</td>\n",
       "      <td>4.15</td>\n",
       "      <td>3.590</td>\n",
       "      <td>59.6</td>\n",
       "      <td>5.4917</td>\n",
       "      <td>3</td>\n",
       "      <td>329</td>\n",
       "      <td>16.1</td>\n",
       "      <td>395.75</td>\n",
       "      <td>2.3750</td>\n",
       "      <td>1</td>\n",
       "      <td>0</td>\n",
       "      <td>0.320406</td>\n",
       "    </tr>\n",
       "    <tr>\n",
       "      <th>1</th>\n",
       "      <td>0.587758</td>\n",
       "      <td>20.0</td>\n",
       "      <td>3.97</td>\n",
       "      <td>14.85</td>\n",
       "      <td>5.398</td>\n",
       "      <td>8.5</td>\n",
       "      <td>2.2885</td>\n",
       "      <td>2</td>\n",
       "      <td>264</td>\n",
       "      <td>13.0</td>\n",
       "      <td>386.86</td>\n",
       "      <td>1.4775</td>\n",
       "      <td>1</td>\n",
       "      <td>0</td>\n",
       "      <td>2.111440</td>\n",
       "    </tr>\n",
       "    <tr>\n",
       "      <th>2</th>\n",
       "      <td>1.116926</td>\n",
       "      <td>0.0</td>\n",
       "      <td>8.14</td>\n",
       "      <td>9.40</td>\n",
       "      <td>2.813</td>\n",
       "      <td>0.0</td>\n",
       "      <td>4.0952</td>\n",
       "      <td>1</td>\n",
       "      <td>307</td>\n",
       "      <td>19.1</td>\n",
       "      <td>394.54</td>\n",
       "      <td>4.9700</td>\n",
       "      <td>1</td>\n",
       "      <td>0</td>\n",
       "      <td>-0.815261</td>\n",
       "    </tr>\n",
       "    <tr>\n",
       "      <th>3</th>\n",
       "      <td>1.517409</td>\n",
       "      <td>0.0</td>\n",
       "      <td>19.58</td>\n",
       "      <td>12.75</td>\n",
       "      <td>3.066</td>\n",
       "      <td>0.0</td>\n",
       "      <td>1.7573</td>\n",
       "      <td>2</td>\n",
       "      <td>403</td>\n",
       "      <td>14.7</td>\n",
       "      <td>353.89</td>\n",
       "      <td>1.6075</td>\n",
       "      <td>1</td>\n",
       "      <td>0</td>\n",
       "      <td>0.256308</td>\n",
       "    </tr>\n",
       "    <tr>\n",
       "      <th>4</th>\n",
       "      <td>83.093533</td>\n",
       "      <td>0.0</td>\n",
       "      <td>18.10</td>\n",
       "      <td>16.45</td>\n",
       "      <td>2.957</td>\n",
       "      <td>0.0</td>\n",
       "      <td>1.8026</td>\n",
       "      <td>4</td>\n",
       "      <td>666</td>\n",
       "      <td>20.2</td>\n",
       "      <td>16.45</td>\n",
       "      <td>5.1550</td>\n",
       "      <td>1</td>\n",
       "      <td>0</td>\n",
       "      <td>-1.551078</td>\n",
       "    </tr>\n",
       "    <tr>\n",
       "      <th>5</th>\n",
       "      <td>10.988323</td>\n",
       "      <td>0.0</td>\n",
       "      <td>18.10</td>\n",
       "      <td>19.50</td>\n",
       "      <td>3.406</td>\n",
       "      <td>2.8</td>\n",
       "      <td>2.0651</td>\n",
       "      <td>4</td>\n",
       "      <td>666</td>\n",
       "      <td>20.2</td>\n",
       "      <td>385.96</td>\n",
       "      <td>4.8800</td>\n",
       "      <td>1</td>\n",
       "      <td>0</td>\n",
       "      <td>-0.992075</td>\n",
       "    </tr>\n",
       "    <tr>\n",
       "      <th>6</th>\n",
       "      <td>0.159895</td>\n",
       "      <td>0.0</td>\n",
       "      <td>6.91</td>\n",
       "      <td>4.90</td>\n",
       "      <td>3.169</td>\n",
       "      <td>93.4</td>\n",
       "      <td>5.7209</td>\n",
       "      <td>0</td>\n",
       "      <td>233</td>\n",
       "      <td>17.9</td>\n",
       "      <td>383.37</td>\n",
       "      <td>1.4525</td>\n",
       "      <td>1</td>\n",
       "      <td>0</td>\n",
       "      <td>0.159507</td>\n",
       "    </tr>\n",
       "    <tr>\n",
       "      <th>7</th>\n",
       "      <td>9.341992</td>\n",
       "      <td>0.0</td>\n",
       "      <td>18.10</td>\n",
       "      <td>15.90</td>\n",
       "      <td>2.875</td>\n",
       "      <td>10.4</td>\n",
       "      <td>1.1296</td>\n",
       "      <td>4</td>\n",
       "      <td>666</td>\n",
       "      <td>20.2</td>\n",
       "      <td>347.88</td>\n",
       "      <td>2.2200</td>\n",
       "      <td>0</td>\n",
       "      <td>1</td>\n",
       "      <td>0.168446</td>\n",
       "    </tr>\n",
       "    <tr>\n",
       "      <th>8</th>\n",
       "      <td>0.010238</td>\n",
       "      <td>90.0</td>\n",
       "      <td>2.97</td>\n",
       "      <td>2.50</td>\n",
       "      <td>4.088</td>\n",
       "      <td>79.2</td>\n",
       "      <td>7.3073</td>\n",
       "      <td>0</td>\n",
       "      <td>285</td>\n",
       "      <td>15.3</td>\n",
       "      <td>394.72</td>\n",
       "      <td>1.9625</td>\n",
       "      <td>1</td>\n",
       "      <td>0</td>\n",
       "      <td>1.002372</td>\n",
       "    </tr>\n",
       "    <tr>\n",
       "      <th>9</th>\n",
       "      <td>0.216802</td>\n",
       "      <td>0.0</td>\n",
       "      <td>7.38</td>\n",
       "      <td>7.15</td>\n",
       "      <td>3.431</td>\n",
       "      <td>85.3</td>\n",
       "      <td>5.4159</td>\n",
       "      <td>2</td>\n",
       "      <td>287</td>\n",
       "      <td>19.6</td>\n",
       "      <td>393.68</td>\n",
       "      <td>1.2700</td>\n",
       "      <td>1</td>\n",
       "      <td>0</td>\n",
       "      <td>0.198096</td>\n",
       "    </tr>\n",
       "    <tr>\n",
       "      <th>10</th>\n",
       "      <td>5.751892</td>\n",
       "      <td>0.0</td>\n",
       "      <td>18.10</td>\n",
       "      <td>18.15</td>\n",
       "      <td>3.297</td>\n",
       "      <td>8.2</td>\n",
       "      <td>2.3682</td>\n",
       "      <td>4</td>\n",
       "      <td>666</td>\n",
       "      <td>19.1</td>\n",
       "      <td>385.09</td>\n",
       "      <td>4.3175</td>\n",
       "      <td>1</td>\n",
       "      <td>0</td>\n",
       "      <td>-0.605525</td>\n",
       "    </tr>\n",
       "    <tr>\n",
       "      <th>11</th>\n",
       "      <td>0.650078</td>\n",
       "      <td>0.0</td>\n",
       "      <td>6.20</td>\n",
       "      <td>7.85</td>\n",
       "      <td>5.337</td>\n",
       "      <td>26.7</td>\n",
       "      <td>3.8384</td>\n",
       "      <td>3</td>\n",
       "      <td>307</td>\n",
       "      <td>17.4</td>\n",
       "      <td>385.91</td>\n",
       "      <td>0.6175</td>\n",
       "      <td>1</td>\n",
       "      <td>0</td>\n",
       "      <td>2.082880</td>\n",
       "    </tr>\n",
       "    <tr>\n",
       "      <th>12</th>\n",
       "      <td>0.148222</td>\n",
       "      <td>0.0</td>\n",
       "      <td>8.56</td>\n",
       "      <td>9.40</td>\n",
       "      <td>3.127</td>\n",
       "      <td>14.8</td>\n",
       "      <td>2.1224</td>\n",
       "      <td>2</td>\n",
       "      <td>384</td>\n",
       "      <td>20.9</td>\n",
       "      <td>387.69</td>\n",
       "      <td>3.5225</td>\n",
       "      <td>1</td>\n",
       "      <td>0</td>\n",
       "      <td>-0.331038</td>\n",
       "    </tr>\n",
       "  </tbody>\n",
       "</table>\n",
       "</div>"
      ],
      "text/plain": [
       "    crime_rate  proportion_flats  proportion_nonretail  commercial_property  \\\n",
       "0     0.039968              34.0                  6.09                 4.15   \n",
       "1     0.587758              20.0                  3.97                14.85   \n",
       "2     1.116926               0.0                  8.14                 9.40   \n",
       "3     1.517409               0.0                 19.58                12.75   \n",
       "4    83.093533               0.0                 18.10                16.45   \n",
       "5    10.988323               0.0                 18.10                19.50   \n",
       "6     0.159895               0.0                  6.91                 4.90   \n",
       "7     9.341992               0.0                 18.10                15.90   \n",
       "8     0.010238              90.0                  2.97                 2.50   \n",
       "9     0.216802               0.0                  7.38                 7.15   \n",
       "10    5.751892               0.0                 18.10                18.15   \n",
       "11    0.650078               0.0                  6.20                 7.85   \n",
       "12    0.148222               0.0                  8.56                 9.40   \n",
       "\n",
       "    household_size  proportion_newbuilds  public_transport_dist  \\\n",
       "0            3.590                  59.6                 5.4917   \n",
       "1            5.398                   8.5                 2.2885   \n",
       "2            2.813                   0.0                 4.0952   \n",
       "3            3.066                   0.0                 1.7573   \n",
       "4            2.957                   0.0                 1.8026   \n",
       "5            3.406                   2.8                 2.0651   \n",
       "6            3.169                  93.4                 5.7209   \n",
       "7            2.875                  10.4                 1.1296   \n",
       "8            4.088                  79.2                 7.3073   \n",
       "9            3.431                  85.3                 5.4159   \n",
       "10           3.297                   8.2                 2.3682   \n",
       "11           5.337                  26.7                 3.8384   \n",
       "12           3.127                  14.8                 2.1224   \n",
       "\n",
       "    transport_availability  property_value  school_proximity  \\\n",
       "0                        3             329              16.1   \n",
       "1                        2             264              13.0   \n",
       "2                        1             307              19.1   \n",
       "3                        2             403              14.7   \n",
       "4                        4             666              20.2   \n",
       "5                        4             666              20.2   \n",
       "6                        0             233              17.9   \n",
       "7                        4             666              20.2   \n",
       "8                        0             285              15.3   \n",
       "9                        2             287              19.6   \n",
       "10                       4             666              19.1   \n",
       "11                       3             307              17.4   \n",
       "12                       2             384              20.9   \n",
       "\n",
       "    competitor_density  household_affluency  new_store_no  new_store_yes  \\\n",
       "0               395.75               2.3750             1              0   \n",
       "1               386.86               1.4775             1              0   \n",
       "2               394.54               4.9700             1              0   \n",
       "3               353.89               1.6075             1              0   \n",
       "4                16.45               5.1550             1              0   \n",
       "5               385.96               4.8800             1              0   \n",
       "6               383.37               1.4525             1              0   \n",
       "7               347.88               2.2200             0              1   \n",
       "8               394.72               1.9625             1              0   \n",
       "9               393.68               1.2700             1              0   \n",
       "10              385.09               4.3175             1              0   \n",
       "11              385.91               0.6175             1              0   \n",
       "12              387.69               3.5225             1              0   \n",
       "\n",
       "    normalised_sales  \n",
       "0           0.320406  \n",
       "1           2.111440  \n",
       "2          -0.815261  \n",
       "3           0.256308  \n",
       "4          -1.551078  \n",
       "5          -0.992075  \n",
       "6           0.159507  \n",
       "7           0.168446  \n",
       "8           1.002372  \n",
       "9           0.198096  \n",
       "10         -0.605525  \n",
       "11          2.082880  \n",
       "12         -0.331038  "
      ]
     },
     "execution_count": 46,
     "metadata": {},
     "output_type": "execute_result"
    }
   ],
   "source": [
    "testWithPredictions"
   ]
  },
  {
   "cell_type": "markdown",
   "metadata": {},
   "source": [
    "Notice that there is one entry where \"crime_rate\" is above 80, which is much larger than the maximum observed in the rest of the dataset (around $50$). Also, the same entry has a very low competitor density, a high property value and high affluency - again, an outlier check could be useful."
   ]
  },
  {
   "cell_type": "markdown",
   "metadata": {},
   "source": [
    "The Random Forest family provides with a bonus: we can rank the features of the dataset by their \"importance\", that is, by the effect each of them has in predicting the target value*."
   ]
  },
  {
   "cell_type": "code",
   "execution_count": 47,
   "metadata": {},
   "outputs": [],
   "source": [
    "featureImportance = gscvBestEstimator.feature_importances_\n",
    "featureImportanceNorm = featureImportance/np.max(featureImportance)\n",
    "\n",
    "featureImportanceDict = {}\n",
    "\n",
    "for Importance, Feature in zip(featureImportanceNorm, train_imp):\n",
    "    featureImportanceDict[Feature] = Importance"
   ]
  },
  {
   "cell_type": "code",
   "execution_count": 48,
   "metadata": {},
   "outputs": [],
   "source": [
    "from operator import itemgetter\n",
    "featureImportanceDict = dict(sorted(featureImportanceDict.items(), key=itemgetter(1), reverse=True)) "
   ]
  },
  {
   "cell_type": "code",
   "execution_count": 49,
   "metadata": {},
   "outputs": [
    {
     "data": {
      "text/plain": [
       "{'household_affluency': 1.0,\n",
       " 'household_size': 0.7520782043374913,\n",
       " 'crime_rate': 0.11229191180041716,\n",
       " 'public_transport_dist': 0.048662889946826306,\n",
       " 'property_value': 0.04368055579337426,\n",
       " 'proportion_newbuilds': 0.04238818306973627,\n",
       " 'competitor_density': 0.031814023869223655,\n",
       " 'commercial_property': 0.02692351706121303,\n",
       " 'school_proximity': 0.025285803063983932,\n",
       " 'proportion_nonretail': 0.01473489898353313,\n",
       " 'transport_availability': 0.0074730163311902235,\n",
       " 'proportion_flats': 0.003635281334763531,\n",
       " 'new_store_yes': 0.0009423848419772584,\n",
       " 'new_store_no': 0.0008369770673952741}"
      ]
     },
     "execution_count": 49,
     "metadata": {},
     "output_type": "execute_result"
    }
   ],
   "source": [
    "featureImportanceDict"
   ]
  },
  {
   "cell_type": "markdown",
   "metadata": {},
   "source": [
    "From the above we gather that \"household_affluency\" is the most important features in terms of weight in predicting the target value. Let's make a plot to see how the other feature compare to it."
   ]
  },
  {
   "cell_type": "code",
   "execution_count": 50,
   "metadata": {},
   "outputs": [
    {
     "data": {
      "image/png": "[encoded data removed]",
      "text/plain": [
       "<Figure size 504x360 with 1 Axes>"
      ]
     },
     "metadata": {
      "needs_background": "light"
     },
     "output_type": "display_data"
    }
   ],
   "source": [
    "fig, ax = plt.subplots(1, 1, figsize=(7, 5))\n",
    "\n",
    "xBarChart = np.arange(len(featureImportanceDict))\n",
    "labelsBarChart = featureImportanceDict.keys()\n",
    "bar = ax.bar(xBarChart, featureImportanceDict.values(), color='red')\n",
    "\n",
    "ax.set_xticks(xBarChart)\n",
    "ax.set_xticklabels(labelsBarChart)\n",
    "\n",
    "ax.set_title('Feature Importance in relation to \"household_affluency\"')\n",
    "\n",
    "plt.setp(ax.get_xticklabels(), rotation=45, ha=\"right\",\n",
    "         rotation_mode=\"anchor\")\n",
    "\n",
    "plt.show()"
   ]
  },
  {
   "cell_type": "markdown",
   "metadata": {},
   "source": [
    "The above plot shows how much each feature is important in predicting the target value compared to the most important one (which is \"household_affluency\"). A close second is \"household_size\", which is roughly $84\\%$ as important as the 1st one. Third is \"crime_rate\", further down at $10\\%$ importance, and others follow at $\\leq 5\\%$. \n",
    "\n",
    "The plot above can be translated as follows: \n",
    "\n",
    "    the quantities that most influence how much a Tesco store in one area sells compared to the average store are the household affluency and the household size. Specifically, areas where households are more affluent and less numerous is correlated with a poor performance of the store."
   ]
  },
  {
   "cell_type": "markdown",
   "metadata": {},
   "source": [
    "Lastly, let's look at the distribution of the predicted target values"
   ]
  },
  {
   "cell_type": "code",
   "execution_count": 51,
   "metadata": {},
   "outputs": [
    {
     "data": {
      "image/png": "[encoded data removed]",
      "text/plain": [
       "<Figure size 432x288 with 1 Axes>"
      ]
     },
     "metadata": {
      "needs_background": "light"
     },
     "output_type": "display_data"
    }
   ],
   "source": [
    "plt.hist(predictions, bins='auto', color='blue')\n",
    "plt.title(f'mean: {predictions.mean():.2f} - std dev: {predictions.std(ddof=2):.2f}')\n",
    "plt.xlabel('normalised sales')\n",
    "plt.show()"
   ]
  },
  {
   "cell_type": "markdown",
   "metadata": {},
   "source": [
    "The above distribution is not too different from the distribution of targets."
   ]
  },
  {
   "cell_type": "markdown",
   "metadata": {},
   "source": [
    "### To recap"
   ]
  },
  {
   "cell_type": "markdown",
   "metadata": {},
   "source": [
    "After exploring the data, we have made some changes to the original dataset for several reasons (some of the features had anomalous values, we have transformed features to obtain new ones, etc). We have checked for correlation between features (and the target column), and have found that some features exhibited a clear correlation with the target value (household_affluency and household_size). \n",
    "\n",
    "After using a Random Forest Regressor to fit these data (and Mean Squared Error as a metric to assess the model against) we find that such features are the most indicative of the performance of a Tesco store in terms of sales.\n",
    "\n",
    "Some steps can be taken in order to improve on the existing model.\n",
    "\n",
    "Firstly, thoroughly examine all the features that we have identified as somehow anomalous. This means checking with whomever provided the data to understand if any step could have led to unwanted values in the dataset; or using algorithms to spot outliers (e. g., Isolation Forest or SVM).\n",
    "\n",
    "Secondly, getting more features (described at the end of Q1) and more instances would most likely improve the robustness of the model (Tesco has around $4000$ all over the UK and Republic of Ireland, so more data could be collected).\n",
    "\n",
    "Thirdly, using the existing features to create new ones and comparing the result of the RFR with other models (e. g., PCA for dimensionality reduction, or Linear Regression) can be helpful to get more information out of the dataset. Also, using different metrics and comparing the results would be helpful."
   ]
  },
  {
   "cell_type": "code",
   "execution_count": null,
   "metadata": {},
   "outputs": [],
   "source": []
  }
 ],
 "metadata": {
  "kernelspec": {
   "display_name": "Python 3",
   "language": "python",
   "name": "python3"
  },
  "language_info": {
   "codemirror_mode": {
    "name": "ipython",
    "version": 3
   },
   "file_extension": ".py",
   "mimetype": "text/x-python",
   "name": "python",
   "nbconvert_exporter": "python",
   "pygments_lexer": "ipython3",
   "version": "3.6.10"
  }
 },
 "nbformat": 4,
 "nbformat_minor": 2
}
